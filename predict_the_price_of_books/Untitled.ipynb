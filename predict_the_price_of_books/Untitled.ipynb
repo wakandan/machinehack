{
 "cells": [
  {
   "cell_type": "code",
   "execution_count": 960,
   "id": "f92bf670-fda7-4a47-9246-13840b0977d1",
   "metadata": {},
   "outputs": [],
   "source": [
    "%load_ext lab_black\n",
    "\n",
    "import pandas as pd\n",
    "import seaborn as sns\n",
    "import matplotlib.pyplot as plt\n",
    "import random\n",
    "import numpy as np\n",
    "import re\n",
    "from sklearn.feature_extraction.text import TfidfTransformer\n",
    "from nltk.corpus import stopwords\n",
    "from textblob import Word\n",
    "from gensim.models import Word2Vec\n",
    "from gensim.scripts.glove2word2vec import glove2word2vec\n",
    "from gensim.models import KeyedVectors\n",
    "from sklearn.preprocessing import MinMaxScaler\n",
    "from sklearn.model_selection import train_test_split\n",
    "from sklearn.neural_network import MLPRegressor\n",
    "from livelossplot import PlotLossesKeras\n",
    "from keras.models import Sequential\n",
    "from keras.layers import Dense\n",
    "from keras.wrappers.scikit_learn import KerasRegressor\n",
    "from sklearn.model_selection import KFold\n",
    "from sklearn.model_selection import cross_validate\n",
    "from sklearn.metrics import make_scorer"
   ]
  },
  {
   "cell_type": "code",
   "execution_count": 688,
   "id": "633e747d-a1be-4781-86c9-ccf82e7742eb",
   "metadata": {},
   "outputs": [
    {
     "name": "stdout",
     "output_type": "stream",
     "text": [
      "[NbConvertApp] Converting notebook Untitled.ipynb to script\n",
      "[NbConvertApp] Writing 7348 bytes to Untitled.py\n"
     ]
    }
   ],
   "source": [
    "!jupyter nbconvert --to script Untitled.ipynb"
   ]
  },
  {
   "cell_type": "code",
   "execution_count": 686,
   "id": "d100118e-f279-489f-b2a0-9ed429b694b8",
   "metadata": {},
   "outputs": [],
   "source": [
    "df = pd.read_excel('Participants_Data/Data_Train.xlsx')\n",
    "df_test = pd.read_excel('Participants_Data/Data_Test.xlsx')"
   ]
  },
  {
   "cell_type": "code",
   "execution_count": 578,
   "id": "02bf5c9c-efe9-4be1-a056-95f84c271b87",
   "metadata": {},
   "outputs": [
    {
     "data": {
      "text/plain": [
       "6237"
      ]
     },
     "execution_count": 578,
     "metadata": {},
     "output_type": "execute_result"
    }
   ],
   "source": [
    "len(df)"
   ]
  },
  {
   "cell_type": "code",
   "execution_count": 579,
   "id": "a876f254-c361-44af-9642-31f433ca6780",
   "metadata": {},
   "outputs": [
    {
     "data": {
      "text/html": [
       "<div>\n",
       "<style scoped>\n",
       "    .dataframe tbody tr th:only-of-type {\n",
       "        vertical-align: middle;\n",
       "    }\n",
       "\n",
       "    .dataframe tbody tr th {\n",
       "        vertical-align: top;\n",
       "    }\n",
       "\n",
       "    .dataframe thead th {\n",
       "        text-align: right;\n",
       "    }\n",
       "</style>\n",
       "<table border=\"1\" class=\"dataframe\">\n",
       "  <thead>\n",
       "    <tr style=\"text-align: right;\">\n",
       "      <th></th>\n",
       "      <th>Title</th>\n",
       "      <th>Author</th>\n",
       "      <th>Edition</th>\n",
       "      <th>Reviews</th>\n",
       "      <th>Ratings</th>\n",
       "      <th>Synopsis</th>\n",
       "      <th>Genre</th>\n",
       "      <th>BookCategory</th>\n",
       "      <th>Price</th>\n",
       "    </tr>\n",
       "  </thead>\n",
       "  <tbody>\n",
       "    <tr>\n",
       "      <th>0</th>\n",
       "      <td>The Prisoner's Gold (The Hunters 3)</td>\n",
       "      <td>Chris Kuzneski</td>\n",
       "      <td>Paperback,– 10 Mar 2016</td>\n",
       "      <td>4.0 out of 5 stars</td>\n",
       "      <td>8 customer reviews</td>\n",
       "      <td>THE HUNTERS return in their third brilliant no...</td>\n",
       "      <td>Action &amp; Adventure (Books)</td>\n",
       "      <td>Action &amp; Adventure</td>\n",
       "      <td>220.00</td>\n",
       "    </tr>\n",
       "    <tr>\n",
       "      <th>1</th>\n",
       "      <td>Guru Dutt: A Tragedy in Three Acts</td>\n",
       "      <td>Arun Khopkar</td>\n",
       "      <td>Paperback,– 7 Nov 2012</td>\n",
       "      <td>3.9 out of 5 stars</td>\n",
       "      <td>14 customer reviews</td>\n",
       "      <td>A layered portrait of a troubled genius for wh...</td>\n",
       "      <td>Cinema &amp; Broadcast (Books)</td>\n",
       "      <td>Biographies, Diaries &amp; True Accounts</td>\n",
       "      <td>202.93</td>\n",
       "    </tr>\n",
       "    <tr>\n",
       "      <th>2</th>\n",
       "      <td>Leviathan (Penguin Classics)</td>\n",
       "      <td>Thomas Hobbes</td>\n",
       "      <td>Paperback,– 25 Feb 1982</td>\n",
       "      <td>4.8 out of 5 stars</td>\n",
       "      <td>6 customer reviews</td>\n",
       "      <td>\"During the time men live without a common Pow...</td>\n",
       "      <td>International Relations</td>\n",
       "      <td>Humour</td>\n",
       "      <td>299.00</td>\n",
       "    </tr>\n",
       "    <tr>\n",
       "      <th>3</th>\n",
       "      <td>A Pocket Full of Rye (Miss Marple)</td>\n",
       "      <td>Agatha Christie</td>\n",
       "      <td>Paperback,– 5 Oct 2017</td>\n",
       "      <td>4.1 out of 5 stars</td>\n",
       "      <td>13 customer reviews</td>\n",
       "      <td>A handful of grain is found in the pocket of a...</td>\n",
       "      <td>Contemporary Fiction (Books)</td>\n",
       "      <td>Crime, Thriller &amp; Mystery</td>\n",
       "      <td>180.00</td>\n",
       "    </tr>\n",
       "    <tr>\n",
       "      <th>4</th>\n",
       "      <td>LIFE 70 Years of Extraordinary Photography</td>\n",
       "      <td>Editors of Life</td>\n",
       "      <td>Hardcover,– 10 Oct 2006</td>\n",
       "      <td>5.0 out of 5 stars</td>\n",
       "      <td>1 customer review</td>\n",
       "      <td>For seven decades, \"Life\" has been thrilling t...</td>\n",
       "      <td>Photography Textbooks</td>\n",
       "      <td>Arts, Film &amp; Photography</td>\n",
       "      <td>965.62</td>\n",
       "    </tr>\n",
       "  </tbody>\n",
       "</table>\n",
       "</div>"
      ],
      "text/plain": [
       "                                        Title           Author  \\\n",
       "0         The Prisoner's Gold (The Hunters 3)   Chris Kuzneski   \n",
       "1          Guru Dutt: A Tragedy in Three Acts     Arun Khopkar   \n",
       "2                Leviathan (Penguin Classics)    Thomas Hobbes   \n",
       "3          A Pocket Full of Rye (Miss Marple)  Agatha Christie   \n",
       "4  LIFE 70 Years of Extraordinary Photography  Editors of Life   \n",
       "\n",
       "                   Edition             Reviews              Ratings  \\\n",
       "0  Paperback,– 10 Mar 2016  4.0 out of 5 stars   8 customer reviews   \n",
       "1   Paperback,– 7 Nov 2012  3.9 out of 5 stars  14 customer reviews   \n",
       "2  Paperback,– 25 Feb 1982  4.8 out of 5 stars   6 customer reviews   \n",
       "3   Paperback,– 5 Oct 2017  4.1 out of 5 stars  13 customer reviews   \n",
       "4  Hardcover,– 10 Oct 2006  5.0 out of 5 stars    1 customer review   \n",
       "\n",
       "                                            Synopsis  \\\n",
       "0  THE HUNTERS return in their third brilliant no...   \n",
       "1  A layered portrait of a troubled genius for wh...   \n",
       "2  \"During the time men live without a common Pow...   \n",
       "3  A handful of grain is found in the pocket of a...   \n",
       "4  For seven decades, \"Life\" has been thrilling t...   \n",
       "\n",
       "                          Genre                          BookCategory   Price  \n",
       "0    Action & Adventure (Books)                    Action & Adventure  220.00  \n",
       "1    Cinema & Broadcast (Books)  Biographies, Diaries & True Accounts  202.93  \n",
       "2       International Relations                                Humour  299.00  \n",
       "3  Contemporary Fiction (Books)             Crime, Thriller & Mystery  180.00  \n",
       "4         Photography Textbooks              Arts, Film & Photography  965.62  "
      ]
     },
     "execution_count": 579,
     "metadata": {},
     "output_type": "execute_result"
    }
   ],
   "source": [
    "df.head()"
   ]
  },
  {
   "cell_type": "code",
   "execution_count": 580,
   "id": "9c6c5857-9424-4dc3-9df4-362bbb523801",
   "metadata": {},
   "outputs": [],
   "source": [
    "df['RatingValue'] = df['Reviews'].apply(lambda x: float(x.split()[0])/5)"
   ]
  },
  {
   "cell_type": "code",
   "execution_count": 581,
   "id": "18cecc98-d97e-4151-a4eb-1b26b7745499",
   "metadata": {},
   "outputs": [],
   "source": [
    "df['NumReview'] = df['Ratings'].apply(lambda x: int(x.split()[0].replace(',', '')))"
   ]
  },
  {
   "cell_type": "code",
   "execution_count": 582,
   "id": "b8320fd6-7747-4612-a451-36a86e725542",
   "metadata": {},
   "outputs": [
    {
     "data": {
      "text/plain": [
       "{'Jan': 1,\n",
       " 'Feb': 2,\n",
       " 'Mar': 3,\n",
       " 'Apr': 4,\n",
       " 'May': 5,\n",
       " 'Jun': 6,\n",
       " 'Jul': 7,\n",
       " 'Aug': 8,\n",
       " 'Sep': 9,\n",
       " 'Oct': 10,\n",
       " 'Nov': 11,\n",
       " 'Dec': 12}"
      ]
     },
     "execution_count": 582,
     "metadata": {},
     "output_type": "execute_result"
    }
   ],
   "source": [
    "months = ['Jan', 'Feb', 'Mar', 'Apr', 'May', 'Jun', 'Jul', 'Aug', 'Sep', 'Oct', 'Nov', 'Dec']\n",
    "monthsMaxDays = {\n",
    "    'Jan': 31, \n",
    "    'Feb': 28, \n",
    "    'Mar': 31, \n",
    "    'Apr': 30, \n",
    "    'May': 31, \n",
    "    'Jun': 30, \n",
    "    'Jul': 31, \n",
    "    'Aug': 31, \n",
    "    'Sep': 30, \n",
    "    'Oct': 31, \n",
    "    'Nov': 30, \n",
    "    'Dec': 31\n",
    "}\n",
    "months_to_num = {}\n",
    "for i, m in enumerate(months):\n",
    "    months_to_num[m] = i+1\n",
    "months_to_num"
   ]
  },
  {
   "cell_type": "code",
   "execution_count": 583,
   "id": "1f500f9f-0393-4914-b011-0ac4dca5c3a2",
   "metadata": {},
   "outputs": [],
   "source": [
    "df.Edition = df.Edition.apply(lambda x: x.replace('–', '-').replace('-', '-'))\n",
    "df.loc[df.Edition.str.match('.*\\(\\w+\\).*'), 'Edition'] = df.loc[df.Edition.str.match('.*\\(\\w+\\).*'), 'Edition'].apply(lambda x: re.sub('\\(\\w+\\),', '', x))\n",
    "df.loc[df.Edition.str.match(r'.*[^\\d]+$'), 'EditionDate'] = np.nan # pattern 1, year and month "
   ]
  },
  {
   "cell_type": "code",
   "execution_count": 584,
   "id": "e277a5a2-624e-44e0-a444-d4e8fd16a460",
   "metadata": {},
   "outputs": [
    {
     "data": {
      "text/plain": [
       "6237"
      ]
     },
     "execution_count": 584,
     "metadata": {},
     "output_type": "execute_result"
    }
   ],
   "source": [
    "len(df)"
   ]
  },
  {
   "cell_type": "code",
   "execution_count": 585,
   "id": "ba515589-d82d-4a9a-b9f9-3c9d1cb9711b",
   "metadata": {},
   "outputs": [],
   "source": [
    "df.loc[df.Edition.str.match(r'.*\\d+$'), 'EditionDate'] = df.Edition.apply(lambda x: x.split(',')[-1].split('-')[-1].strip())"
   ]
  },
  {
   "cell_type": "code",
   "execution_count": 586,
   "id": "d962ebea-7109-4ea9-957b-d2b4f5952f82",
   "metadata": {},
   "outputs": [
    {
     "data": {
      "text/plain": [
       "0       10 Mar 2016\n",
       "1        7 Nov 2012\n",
       "2       25 Feb 1982\n",
       "3        5 Oct 2017\n",
       "4       10 Oct 2006\n",
       "           ...     \n",
       "6232     8 Aug 2018\n",
       "6233    21 Nov 2016\n",
       "6234     8 Jun 2006\n",
       "6235    15 Jan 2015\n",
       "6236    21 Dec 2016\n",
       "Name: EditionDate, Length: 6237, dtype: object"
      ]
     },
     "execution_count": 586,
     "metadata": {},
     "output_type": "execute_result"
    }
   ],
   "source": [
    "df.EditionDate"
   ]
  },
  {
   "cell_type": "code",
   "execution_count": 587,
   "id": "79b8dc0e-083e-4b11-948f-94b46a7c75a1",
   "metadata": {},
   "outputs": [
    {
     "data": {
      "text/plain": [
       "array([2016., 2012., 1982., 2017., 2006., 2009., 2018., 2015., 2013.,\n",
       "       1999., 2002., 2011., 1991., 2014., 1989., 2000., 2005., 2019.,\n",
       "       2008., 2004., 2010., 2007., 2001., 1969., 1993., 1992., 2003.,\n",
       "       1996.,   nan, 1997., 1995., 1987., 1986., 1990., 1988., 1981.,\n",
       "       1976., 1994., 1998., 1977., 1974., 1983., 1971., 1985., 1978.,\n",
       "       1964., 1984., 1980., 1979., 1960., 1970., 1975., 1905., 1900.,\n",
       "       1961., 1925., 1973.])"
      ]
     },
     "execution_count": 587,
     "metadata": {},
     "output_type": "execute_result"
    }
   ],
   "source": [
    "df['Year'] = df.EditionDate.apply(lambda x: int(x[-4:].strip()) if pd.notnull(x) else np.nan)\n",
    "df['Year'].unique()"
   ]
  },
  {
   "cell_type": "code",
   "execution_count": 588,
   "id": "a74bb3d5-8fe5-4d4a-b5dd-7aadc08543e5",
   "metadata": {},
   "outputs": [],
   "source": [
    "df['Month'] = df.EditionDate.apply(lambda x: x[-8:-4] if (pd.notnull(x) and len(x)>8) else np.nan)"
   ]
  },
  {
   "cell_type": "code",
   "execution_count": 589,
   "id": "df156d7e-4370-4268-a299-24a266e78549",
   "metadata": {},
   "outputs": [],
   "source": [
    "df['Day'] = df.EditionDate.apply(lambda x: int(x[-11:-9].strip()) if (pd.notnull(x) and len(x)>=10) else np.nan)"
   ]
  },
  {
   "cell_type": "code",
   "execution_count": 590,
   "id": "339b96e6-35c6-4509-a009-a9907328ce13",
   "metadata": {},
   "outputs": [
    {
     "data": {
      "text/plain": [
       "<AxesSubplot:xlabel='count', ylabel='BookCategory'>"
      ]
     },
     "execution_count": 590,
     "metadata": {},
     "output_type": "execute_result"
    },
    {
     "data": {
      "image/png": "[encoded data removed]",
      "text/plain": [
       "<Figure size 432x288 with 1 Axes>"
      ]
     },
     "metadata": {
      "needs_background": "light"
     },
     "output_type": "display_data"
    }
   ],
   "source": [
    "sns.countplot(data=df, y='BookCategory')"
   ]
  },
  {
   "cell_type": "code",
   "execution_count": 591,
   "id": "a956ad5a-06d3-45ed-8b03-2888f1a7852c",
   "metadata": {},
   "outputs": [],
   "source": [
    "df['PrintEdition'] = df.Edition.apply(lambda x: x.split(',')[0])"
   ]
  },
  {
   "cell_type": "code",
   "execution_count": 592,
   "id": "53145671-cf2c-4951-be81-a7b97598dcc3",
   "metadata": {},
   "outputs": [
    {
     "data": {
      "text/plain": [
       "<AxesSubplot:xlabel='count', ylabel='PrintEdition'>"
      ]
     },
     "execution_count": 592,
     "metadata": {},
     "output_type": "execute_result"
    },
    {
     "data": {
      "image/png": "[encoded data removed]",
      "text/plain": [
       "<Figure size 432x288 with 1 Axes>"
      ]
     },
     "metadata": {
      "needs_background": "light"
     },
     "output_type": "display_data"
    }
   ],
   "source": [
    "sns.countplot(data=df, y='PrintEdition')"
   ]
  },
  {
   "cell_type": "code",
   "execution_count": 593,
   "id": "8fb7c4be-7db3-429f-b661-636aff7b84a0",
   "metadata": {},
   "outputs": [],
   "source": [
    "df.to_csv('processed_edition.csv') # write to file to save time later"
   ]
  },
  {
   "cell_type": "code",
   "execution_count": 594,
   "id": "327698bc-6966-4a49-8892-b86171e6ef52",
   "metadata": {},
   "outputs": [],
   "source": [
    "# df.loc[df.Edition.str.contains('Import'), 'IsImported'] = 1 # mark books that were imported\n",
    "df['IsImported'] = df.Edition.str.contains('Import')"
   ]
  },
  {
   "cell_type": "code",
   "execution_count": 595,
   "id": "bd86da9e-4918-4e06-942c-e5d0f95b458d",
   "metadata": {},
   "outputs": [
    {
     "name": "stderr",
     "output_type": "stream",
     "text": [
      "/Users/kdang/anaconda3/envs/kaggle/lib/python3.7/site-packages/pandas/core/strings/accessor.py:101: UserWarning: This pattern has match groups. To actually get the groups, use str.extract.\n",
      "  return func(self, *args, **kwargs)\n"
     ]
    }
   ],
   "source": [
    "df['IsBook'] = df.Genre.str.contains('(Books)')"
   ]
  },
  {
   "cell_type": "code",
   "execution_count": 596,
   "id": "7631c241-4e06-4749-896b-a8bc3cdeaaee",
   "metadata": {},
   "outputs": [],
   "source": [
    "df['IsMultipleAuthor'] = df.Author.str.match('.*[,&-].*')\n"
   ]
  },
  {
   "cell_type": "code",
   "execution_count": 597,
   "id": "1ef6061d-d2d7-4c49-a982-76b8f56feeff",
   "metadata": {},
   "outputs": [
    {
     "data": {
      "text/plain": [
       "<AxesSubplot:xlabel='count', ylabel='IsMultipleAuthor'>"
      ]
     },
     "execution_count": 597,
     "metadata": {},
     "output_type": "execute_result"
    },
    {
     "data": {
      "image/png": "[encoded data removed]",
      "text/plain": [
       "<Figure size 432x288 with 1 Axes>"
      ]
     },
     "metadata": {
      "needs_background": "light"
     },
     "output_type": "display_data"
    }
   ],
   "source": [
    "sns.countplot(data=df, y='IsMultipleAuthor')"
   ]
  },
  {
   "cell_type": "code",
   "execution_count": 598,
   "id": "b1849245-6661-4c7b-ae6d-aba8624784d3",
   "metadata": {},
   "outputs": [],
   "source": [
    "df['IsSpecialAuthor'] = df.Author.apply(lambda x: any(i for i in x.lower().split() if i in ['phd.', 'phd', 'dr', 'dr.', 'prof', 'prof.', 'sir', 'sir.', 'm.d.', 'm.d.', 'mr', 'mr.', 'mrs', 'mrs.', 'm.a', 'm.a.']))\n"
   ]
  },
  {
   "cell_type": "code",
   "execution_count": 599,
   "id": "8462f02c-2664-4ee7-bf40-b8beeb56ee4d",
   "metadata": {},
   "outputs": [
    {
     "data": {
      "text/plain": [
       "<AxesSubplot:xlabel='count', ylabel='IsSpecialAuthor'>"
      ]
     },
     "execution_count": 599,
     "metadata": {},
     "output_type": "execute_result"
    },
    {
     "data": {
      "image/png": "[encoded data removed]",
      "text/plain": [
       "<Figure size 432x288 with 1 Axes>"
      ]
     },
     "metadata": {
      "needs_background": "light"
     },
     "output_type": "display_data"
    }
   ],
   "source": [
    "sns.countplot(data=df, y='IsSpecialAuthor')"
   ]
  },
  {
   "cell_type": "code",
   "execution_count": 600,
   "id": "7144ea7e-7e4b-466e-bb5d-65bf3420a182",
   "metadata": {},
   "outputs": [
    {
     "data": {
      "text/plain": [
       "<AxesSubplot:xlabel='count', ylabel='IsBook'>"
      ]
     },
     "execution_count": 600,
     "metadata": {},
     "output_type": "execute_result"
    },
    {
     "data": {
      "image/png": "[encoded data removed]",
      "text/plain": [
       "<Figure size 432x288 with 1 Axes>"
      ]
     },
     "metadata": {
      "needs_background": "light"
     },
     "output_type": "display_data"
    }
   ],
   "source": [
    "sns.countplot(data=df, y='IsBook')"
   ]
  },
  {
   "cell_type": "code",
   "execution_count": 601,
   "id": "b418123d-1a48-4a13-b47d-7032dde60ed6",
   "metadata": {},
   "outputs": [
    {
     "name": "stderr",
     "output_type": "stream",
     "text": [
      "/Users/kdang/anaconda3/envs/kaggle/lib/python3.7/site-packages/ipykernel_launcher.py:4: DeprecationWarning: Call to deprecated `glove2word2vec` (KeyedVectors.load_word2vec_format(.., binary=False, no_header=True) loads GLoVE text vectors.).\n",
      "  after removing the cwd from sys.path.\n"
     ]
    },
    {
     "data": {
      "text/plain": [
       "(400000, 100)"
      ]
     },
     "execution_count": 601,
     "metadata": {},
     "output_type": "execute_result"
    }
   ],
   "source": [
    "# prepare to generate word embbeding vectors\n",
    "glove_input_file = '/Users/kdang/Documents/glove.6B/glove.6B.100d.txt'\n",
    "word2vec_output_file = 'glove.6B.100d.txt.word2vec'\n",
    "glove2word2vec(glove_input_file, word2vec_output_file)"
   ]
  },
  {
   "cell_type": "code",
   "execution_count": 602,
   "id": "2eeaf1c2-039f-48b3-90f9-ffc27c8f901f",
   "metadata": {},
   "outputs": [],
   "source": [
    "model = KeyedVectors.load_word2vec_format(word2vec_output_file)"
   ]
  },
  {
   "cell_type": "code",
   "execution_count": 603,
   "id": "171992ea-dcc4-43df-bc2a-cd104c869953",
   "metadata": {},
   "outputs": [],
   "source": [
    "def processTextColumn(df, col):\n",
    "    df[f'{col}Token'] = df[col].str.lower()\n",
    "    df[f'{col}Token'] = df[f'{col}Token'].str.replace('[^\\w\\s]', '').apply(lambda x: [Word(i).lemmatize() for i in x.split()])\n",
    "    stop = stopwords.words('english')\n",
    "    df[f'{col}Token'] = df[f'{col}Token'].apply(lambda x: [i for i in x if i not in stop])\n",
    "    df[f'{col}Vector'] = df[f'{col}Token'].apply(lambda x: np.mean([(model[i] if i in model else np.zeros(100)) for i in x], axis=0) if x else  np.zeros(100))"
   ]
  },
  {
   "cell_type": "code",
   "execution_count": 604,
   "id": "5de3a239-3f2b-4132-8f5b-fbc2a1b153a3",
   "metadata": {},
   "outputs": [
    {
     "name": "stderr",
     "output_type": "stream",
     "text": [
      "/Users/kdang/anaconda3/envs/kaggle/lib/python3.7/site-packages/ipykernel_launcher.py:3: FutureWarning: The default value of regex will change from True to False in a future version.\n",
      "  This is separate from the ipykernel package so we can avoid doing imports until\n"
     ]
    }
   ],
   "source": [
    "processTextColumn(df, 'Synopsis')\n",
    "processTextColumn(df, 'BookCategory')\n",
    "processTextColumn(df, 'Title')\n",
    "processTextColumn(df, 'Genre')\n",
    "df = df.drop(columns=['BookCategoryToken', 'BookCategoryToken', 'TitleToken', 'GenreToken'])"
   ]
  },
  {
   "cell_type": "code",
   "execution_count": 605,
   "id": "48369b28-c33f-4660-b798-3d0733496239",
   "metadata": {},
   "outputs": [],
   "source": [
    "min_year = df.Year.min()\n",
    "min_year\n",
    "max_year = df.Year.max()\n",
    "max_year\n",
    "random.randrange(min_year, max_year+1)\n",
    "df.loc[pd.isnull(df.Year), 'Year'] = df.loc[pd.isnull(df.Year), 'Year'].apply(lambda x: random.randrange(min_year, max_year+1))"
   ]
  },
  {
   "cell_type": "code",
   "execution_count": 606,
   "id": "2c63d0ef-d016-4423-bb04-45f961cfe33f",
   "metadata": {},
   "outputs": [
    {
     "data": {
      "text/plain": [
       "array(['Mar ', 'Nov ', 'Feb ', 'Oct ', 'May ', 'Dec ', 'Jan ', 'Jun ',\n",
       "       'Jul ', 'Sep ', nan, 'Aug ', 'Apr '], dtype=object)"
      ]
     },
     "execution_count": 606,
     "metadata": {},
     "output_type": "execute_result"
    }
   ],
   "source": [
    "df.Month.unique()"
   ]
  },
  {
   "cell_type": "code",
   "execution_count": 607,
   "id": "14b792b4-a0b4-42a3-ad55-e348e48767a0",
   "metadata": {},
   "outputs": [],
   "source": [
    "df.loc[pd.isnull(df.Month), 'Month'] = df.loc[pd.isnull(df.Month), 'Month'].apply(lambda x: random.choice(months))"
   ]
  },
  {
   "cell_type": "code",
   "execution_count": 608,
   "id": "7146563b-5c29-4c0d-abb8-39ddab1ea01f",
   "metadata": {},
   "outputs": [],
   "source": [
    "df.loc[pd.isnull(df.Day), 'Day'] = df.loc[df.loc[pd.isnull(df.Day)].index, 'Month'].apply(lambda x: random.randint(1, monthsMaxDays[x]+1))"
   ]
  },
  {
   "cell_type": "code",
   "execution_count": 609,
   "id": "95392d0a-76b8-4c38-a6c0-f136e0dfa8b7",
   "metadata": {},
   "outputs": [
    {
     "data": {
      "text/plain": [
       "<AxesSubplot:xlabel='count', ylabel='IsSpecialAuthor'>"
      ]
     },
     "execution_count": 609,
     "metadata": {},
     "output_type": "execute_result"
    },
    {
     "data": {
      "image/png": "[encoded data removed]",
      "text/plain": [
       "<Figure size 432x288 with 1 Axes>"
      ]
     },
     "metadata": {
      "needs_background": "light"
     },
     "output_type": "display_data"
    }
   ],
   "source": [
    "sns.countplot(data=df, y='IsSpecialAuthor')"
   ]
  },
  {
   "cell_type": "code",
   "execution_count": 610,
   "id": "090eda8b-b1e0-41a9-8ee8-e0062a357a43",
   "metadata": {},
   "outputs": [
    {
     "data": {
      "text/plain": [
       "<AxesSubplot:>"
      ]
     },
     "execution_count": 610,
     "metadata": {},
     "output_type": "execute_result"
    },
    {
     "data": {
      "image/png": "[encoded data removed]",
      "text/plain": [
       "<Figure size 432x288 with 1 Axes>"
      ]
     },
     "metadata": {
      "needs_background": "light"
     },
     "output_type": "display_data"
    }
   ],
   "source": [
    "df.Price.hist(bins=10)"
   ]
  },
  {
   "cell_type": "code",
   "execution_count": 795,
   "id": "90de08aa-1000-4f3a-a0d4-a661ac53c094",
   "metadata": {},
   "outputs": [
    {
     "data": {
      "text/plain": [
       "14100.0"
      ]
     },
     "execution_count": 795,
     "metadata": {},
     "output_type": "execute_result"
    }
   ],
   "source": [
    "df.Price.max()"
   ]
  },
  {
   "cell_type": "code",
   "execution_count": 611,
   "id": "3f64b508-cc2a-41bb-8416-bb18db683158",
   "metadata": {},
   "outputs": [],
   "source": [
    "bins = [0, 1000, 5000, 100000]\n",
    "df['PriceBinned'] = np.searchsorted(bins, df['Price'].values)"
   ]
  },
  {
   "cell_type": "code",
   "execution_count": 612,
   "id": "7c5ab8f2-6361-435d-beaf-52f700475e9b",
   "metadata": {},
   "outputs": [
    {
     "data": {
      "text/html": [
       "<div>\n",
       "<style scoped>\n",
       "    .dataframe tbody tr th:only-of-type {\n",
       "        vertical-align: middle;\n",
       "    }\n",
       "\n",
       "    .dataframe tbody tr th {\n",
       "        vertical-align: top;\n",
       "    }\n",
       "\n",
       "    .dataframe thead th {\n",
       "        text-align: right;\n",
       "    }\n",
       "</style>\n",
       "<table border=\"1\" class=\"dataframe\">\n",
       "  <thead>\n",
       "    <tr style=\"text-align: right;\">\n",
       "      <th></th>\n",
       "      <th>Title</th>\n",
       "      <th>Author</th>\n",
       "      <th>Edition</th>\n",
       "      <th>Reviews</th>\n",
       "      <th>Ratings</th>\n",
       "      <th>Synopsis</th>\n",
       "      <th>Genre</th>\n",
       "      <th>BookCategory</th>\n",
       "      <th>Price</th>\n",
       "      <th>RatingValue</th>\n",
       "      <th>...</th>\n",
       "      <th>PrintEdition</th>\n",
       "      <th>IsImported</th>\n",
       "      <th>IsBook</th>\n",
       "      <th>IsMultipleAuthor</th>\n",
       "      <th>IsSpecialAuthor</th>\n",
       "      <th>SynopsisToken</th>\n",
       "      <th>SynopsisVector</th>\n",
       "      <th>BookCategoryVector</th>\n",
       "      <th>TitleVector</th>\n",
       "      <th>GenreVector</th>\n",
       "    </tr>\n",
       "    <tr>\n",
       "      <th>PriceBinned</th>\n",
       "      <th></th>\n",
       "      <th></th>\n",
       "      <th></th>\n",
       "      <th></th>\n",
       "      <th></th>\n",
       "      <th></th>\n",
       "      <th></th>\n",
       "      <th></th>\n",
       "      <th></th>\n",
       "      <th></th>\n",
       "      <th></th>\n",
       "      <th></th>\n",
       "      <th></th>\n",
       "      <th></th>\n",
       "      <th></th>\n",
       "      <th></th>\n",
       "      <th></th>\n",
       "      <th></th>\n",
       "      <th></th>\n",
       "      <th></th>\n",
       "      <th></th>\n",
       "    </tr>\n",
       "  </thead>\n",
       "  <tbody>\n",
       "    <tr>\n",
       "      <th>1</th>\n",
       "      <td>5520</td>\n",
       "      <td>5520</td>\n",
       "      <td>5520</td>\n",
       "      <td>5520</td>\n",
       "      <td>5520</td>\n",
       "      <td>5520</td>\n",
       "      <td>5520</td>\n",
       "      <td>5520</td>\n",
       "      <td>5520</td>\n",
       "      <td>5520</td>\n",
       "      <td>...</td>\n",
       "      <td>5520</td>\n",
       "      <td>5520</td>\n",
       "      <td>5520</td>\n",
       "      <td>5520</td>\n",
       "      <td>5520</td>\n",
       "      <td>5520</td>\n",
       "      <td>5520</td>\n",
       "      <td>5520</td>\n",
       "      <td>5520</td>\n",
       "      <td>5520</td>\n",
       "    </tr>\n",
       "    <tr>\n",
       "      <th>2</th>\n",
       "      <td>696</td>\n",
       "      <td>696</td>\n",
       "      <td>696</td>\n",
       "      <td>696</td>\n",
       "      <td>696</td>\n",
       "      <td>696</td>\n",
       "      <td>696</td>\n",
       "      <td>696</td>\n",
       "      <td>696</td>\n",
       "      <td>696</td>\n",
       "      <td>...</td>\n",
       "      <td>696</td>\n",
       "      <td>696</td>\n",
       "      <td>696</td>\n",
       "      <td>696</td>\n",
       "      <td>696</td>\n",
       "      <td>696</td>\n",
       "      <td>696</td>\n",
       "      <td>696</td>\n",
       "      <td>696</td>\n",
       "      <td>696</td>\n",
       "    </tr>\n",
       "    <tr>\n",
       "      <th>3</th>\n",
       "      <td>21</td>\n",
       "      <td>21</td>\n",
       "      <td>21</td>\n",
       "      <td>21</td>\n",
       "      <td>21</td>\n",
       "      <td>21</td>\n",
       "      <td>21</td>\n",
       "      <td>21</td>\n",
       "      <td>21</td>\n",
       "      <td>21</td>\n",
       "      <td>...</td>\n",
       "      <td>21</td>\n",
       "      <td>21</td>\n",
       "      <td>21</td>\n",
       "      <td>21</td>\n",
       "      <td>21</td>\n",
       "      <td>21</td>\n",
       "      <td>21</td>\n",
       "      <td>21</td>\n",
       "      <td>21</td>\n",
       "      <td>21</td>\n",
       "    </tr>\n",
       "  </tbody>\n",
       "</table>\n",
       "<p>3 rows × 25 columns</p>\n",
       "</div>"
      ],
      "text/plain": [
       "             Title  Author  Edition  Reviews  Ratings  Synopsis  Genre  \\\n",
       "PriceBinned                                                              \n",
       "1             5520    5520     5520     5520     5520      5520   5520   \n",
       "2              696     696      696      696      696       696    696   \n",
       "3               21      21       21       21       21        21     21   \n",
       "\n",
       "             BookCategory  Price  RatingValue  ...  PrintEdition  IsImported  \\\n",
       "PriceBinned                                    ...                             \n",
       "1                    5520   5520         5520  ...          5520        5520   \n",
       "2                     696    696          696  ...           696         696   \n",
       "3                      21     21           21  ...            21          21   \n",
       "\n",
       "             IsBook  IsMultipleAuthor  IsSpecialAuthor  SynopsisToken  \\\n",
       "PriceBinned                                                             \n",
       "1              5520              5520             5520           5520   \n",
       "2               696               696              696            696   \n",
       "3                21                21               21             21   \n",
       "\n",
       "             SynopsisVector  BookCategoryVector  TitleVector  GenreVector  \n",
       "PriceBinned                                                                \n",
       "1                      5520                5520         5520         5520  \n",
       "2                       696                 696          696          696  \n",
       "3                        21                  21           21           21  \n",
       "\n",
       "[3 rows x 25 columns]"
      ]
     },
     "execution_count": 612,
     "metadata": {},
     "output_type": "execute_result"
    }
   ],
   "source": [
    "df.groupby('PriceBinned').count()"
   ]
  },
  {
   "cell_type": "code",
   "execution_count": 613,
   "id": "9aaec2fd-7604-47fe-bed2-e5fceca9c3e9",
   "metadata": {},
   "outputs": [],
   "source": [
    "df['IsImported'] = df['IsImported'].astype(int)\n",
    "df['Year'] = df['Year'].astype(int)\n",
    "df['IsBook'] = df['IsBook'].astype(int)\n",
    "df['IsMultipleAuthor'] = df['IsMultipleAuthor'].astype(int)\n",
    "df['IsSpecialAuthor'] = df['IsSpecialAuthor'].astype(int)"
   ]
  },
  {
   "cell_type": "code",
   "execution_count": 627,
   "id": "588c0401-5af7-4a31-861b-9c59081c27dc",
   "metadata": {},
   "outputs": [
    {
     "name": "stdout",
     "output_type": "stream",
     "text": [
      "<class 'pandas.core.frame.DataFrame'>\n",
      "RangeIndex: 6237 entries, 0 to 6236\n",
      "Data columns (total 26 columns):\n",
      " #   Column              Non-Null Count  Dtype  \n",
      "---  ------              --------------  -----  \n",
      " 0   Title               6237 non-null   object \n",
      " 1   Author              6237 non-null   object \n",
      " 2   Edition             6237 non-null   object \n",
      " 3   Reviews             6237 non-null   object \n",
      " 4   Ratings             6237 non-null   object \n",
      " 5   Synopsis            6237 non-null   object \n",
      " 6   Genre               6237 non-null   object \n",
      " 7   BookCategory        6237 non-null   object \n",
      " 8   Price               6237 non-null   float64\n",
      " 9   RatingValue         6237 non-null   float64\n",
      " 10  NumReview           6237 non-null   int64  \n",
      " 11  EditionDate         6216 non-null   object \n",
      " 12  Year                6237 non-null   int64  \n",
      " 13  Month               6237 non-null   object \n",
      " 14  Day                 6237 non-null   float64\n",
      " 15  PrintEdition        6237 non-null   object \n",
      " 16  IsImported          6237 non-null   int64  \n",
      " 17  IsBook              6237 non-null   int64  \n",
      " 18  IsMultipleAuthor    6237 non-null   int64  \n",
      " 19  IsSpecialAuthor     6237 non-null   int64  \n",
      " 20  SynopsisToken       6237 non-null   object \n",
      " 21  SynopsisVector      6237 non-null   object \n",
      " 22  BookCategoryVector  6237 non-null   object \n",
      " 23  TitleVector         6237 non-null   object \n",
      " 24  GenreVector         6237 non-null   object \n",
      " 25  PriceBinned         6237 non-null   int64  \n",
      "dtypes: float64(3), int64(7), object(16)\n",
      "memory usage: 1.2+ MB\n"
     ]
    }
   ],
   "source": [
    "df.info()"
   ]
  },
  {
   "cell_type": "code",
   "execution_count": 668,
   "id": "a9a5ee55-6144-422e-b7c0-d7ad5406be3c",
   "metadata": {},
   "outputs": [],
   "source": [
    "df_processed = df.copy()\n",
    "df_processed = df_processed.drop(columns='Title Author Edition Reviews Ratings Synopsis Genre BookCategory EditionDate SynopsisToken'.split())"
   ]
  },
  {
   "cell_type": "code",
   "execution_count": 669,
   "id": "ad15dd09-fee5-4a9d-a3cf-de740432789f",
   "metadata": {},
   "outputs": [
    {
     "name": "stdout",
     "output_type": "stream",
     "text": [
      "<class 'pandas.core.frame.DataFrame'>\n",
      "RangeIndex: 6237 entries, 0 to 6236\n",
      "Data columns (total 16 columns):\n",
      " #   Column              Non-Null Count  Dtype  \n",
      "---  ------              --------------  -----  \n",
      " 0   Price               6237 non-null   float64\n",
      " 1   RatingValue         6237 non-null   float64\n",
      " 2   NumReview           6237 non-null   int64  \n",
      " 3   Year                6237 non-null   int64  \n",
      " 4   Month               6237 non-null   object \n",
      " 5   Day                 6237 non-null   float64\n",
      " 6   PrintEdition        6237 non-null   object \n",
      " 7   IsImported          6237 non-null   int64  \n",
      " 8   IsBook              6237 non-null   int64  \n",
      " 9   IsMultipleAuthor    6237 non-null   int64  \n",
      " 10  IsSpecialAuthor     6237 non-null   int64  \n",
      " 11  SynopsisVector      6237 non-null   object \n",
      " 12  BookCategoryVector  6237 non-null   object \n",
      " 13  TitleVector         6237 non-null   object \n",
      " 14  GenreVector         6237 non-null   object \n",
      " 15  PriceBinned         6237 non-null   int64  \n",
      "dtypes: float64(3), int64(7), object(6)\n",
      "memory usage: 779.8+ KB\n"
     ]
    }
   ],
   "source": [
    "df_processed.info()"
   ]
  },
  {
   "cell_type": "code",
   "execution_count": 670,
   "id": "bdf35162-fe64-41e5-a6e8-9fdff701599b",
   "metadata": {},
   "outputs": [],
   "source": [
    "df_processed['Year'] = MinMaxScaler().fit_transform([[i] for i in df.Year])\n",
    "df_processed['NumReview'] = MinMaxScaler().fit_transform([[i] for i in df.NumReview])"
   ]
  },
  {
   "cell_type": "code",
   "execution_count": 671,
   "id": "356dde2b-6f8e-4ffa-b554-db2299db7941",
   "metadata": {},
   "outputs": [],
   "source": [
    "def categorical_to_column(df, col):\n",
    "    for i in df[col].unique():\n",
    "        col_name = f'{col}_{i}'\n",
    "        df.loc[df[col]==i, col_name] = 1\n",
    "        df[col_name] = df[col_name].fillna(0)        \n",
    "        df[col_name] = df[col_name].astype(int)"
   ]
  },
  {
   "cell_type": "code",
   "execution_count": 672,
   "id": "fc34d127-1135-4aca-aebd-b409d6de57b4",
   "metadata": {},
   "outputs": [],
   "source": [
    "categorical_to_column(df_processed, 'Month')\n",
    "categorical_to_column(df_processed, 'Day')\n",
    "categorical_to_column(df_processed, 'PrintEdition')\n",
    "df_processed = df_processed.drop(columns=['Month', 'Day', 'PrintEdition'])"
   ]
  },
  {
   "cell_type": "code",
   "execution_count": 673,
   "id": "1b6084ef-865e-4e02-8dfc-719469cde5b1",
   "metadata": {},
   "outputs": [],
   "source": [
    "for col in ['GenreVector', 'TitleVector', 'BookCategoryVector', 'SynopsisVector']:\n",
    "    for i in range(100):\n",
    "        df_processed[f'{col}{i}'] = df_processed[col].apply(lambda x: x[i])\n",
    "df_processed = df_processed.drop(columns=['GenreVector', 'TitleVector', 'BookCategoryVector', 'SynopsisVector'])"
   ]
  },
  {
   "cell_type": "code",
   "execution_count": 674,
   "id": "4e616eb8-c3f6-4e13-b89f-fc600cc438ca",
   "metadata": {},
   "outputs": [
    {
     "name": "stdout",
     "output_type": "stream",
     "text": [
      "<class 'pandas.core.frame.DataFrame'>\n",
      "RangeIndex: 6237 entries, 0 to 6236\n",
      "Columns: 480 entries, Price to SynopsisVector99\n",
      "dtypes: float64(404), int64(76)\n",
      "memory usage: 22.8 MB\n"
     ]
    }
   ],
   "source": [
    "df_processed.info()"
   ]
  },
  {
   "cell_type": "code",
   "execution_count": 675,
   "id": "48fe62b4-df0c-4698-89f4-8c096158ccb5",
   "metadata": {},
   "outputs": [],
   "source": [
    "xtrain, xtest, ytrain, ytest = train_test_split(df_processed.drop(columns=['Price']), df_processed.Price, stratify=df['PriceBinned'])\n",
    "xtrain = xtrain.drop(columns=['PriceBinned'])\n",
    "xtest = xtest.drop(columns=['PriceBinned'])"
   ]
  },
  {
   "cell_type": "code",
   "execution_count": 745,
   "id": "b1ec8193-10c9-4fad-ad72-57aad6aa2f37",
   "metadata": {
    "collapsed": true,
    "jupyter": {
     "outputs_hidden": true
    },
    "tags": []
   },
   "outputs": [
    {
     "name": "stdout",
     "output_type": "stream",
     "text": [
      "Iteration 1, loss = 325491.48110319\n",
      "Validation score: -0.296469\n",
      "Iteration 2, loss = 283590.02376593\n",
      "Validation score: -0.170144\n",
      "Iteration 3, loss = 281591.70616842\n",
      "Validation score: -0.166014\n",
      "Iteration 4, loss = 279284.43986033\n",
      "Validation score: -0.153270\n",
      "Iteration 5, loss = 274471.58656041\n",
      "Validation score: -0.155400\n",
      "Iteration 6, loss = 268433.88147197\n",
      "Validation score: -0.082936\n",
      "Iteration 7, loss = 259458.68991622\n",
      "Validation score: -0.093208\n",
      "Iteration 8, loss = 255892.14479384\n",
      "Validation score: -0.012965\n",
      "Iteration 9, loss = 247955.27302932\n",
      "Validation score: -0.015258\n",
      "Iteration 10, loss = 241519.42522603\n",
      "Validation score: -0.029421\n",
      "Iteration 11, loss = 236468.07196805\n",
      "Validation score: -0.190379\n",
      "Iteration 12, loss = 247929.96645549\n",
      "Validation score: 0.042009\n",
      "Iteration 13, loss = 232437.56648440\n",
      "Validation score: -0.071673\n",
      "Iteration 14, loss = 233645.77774631\n",
      "Validation score: 0.070384\n",
      "Iteration 15, loss = 226338.05141838\n",
      "Validation score: 0.068718\n",
      "Iteration 16, loss = 224791.46474872\n",
      "Validation score: 0.076264\n",
      "Iteration 17, loss = 222610.36233993\n",
      "Validation score: 0.083603\n",
      "Iteration 18, loss = 221953.06301635\n",
      "Validation score: 0.086126\n",
      "Iteration 19, loss = 224945.04373927\n",
      "Validation score: 0.016025\n",
      "Iteration 20, loss = 220243.01803124\n",
      "Validation score: 0.076864\n",
      "Iteration 21, loss = 219324.79660059\n",
      "Validation score: 0.044949\n",
      "Iteration 22, loss = 219106.37281113\n",
      "Validation score: 0.082820\n",
      "Iteration 23, loss = 217386.81625904\n",
      "Validation score: 0.092427\n",
      "Iteration 24, loss = 217885.32837920\n",
      "Validation score: 0.084860\n",
      "Iteration 25, loss = 215714.08158864\n",
      "Validation score: 0.106229\n",
      "Iteration 26, loss = 215086.05787735\n",
      "Validation score: 0.114151\n",
      "Iteration 27, loss = 215608.10064718\n",
      "Validation score: 0.114888\n",
      "Iteration 28, loss = 213697.93730597\n",
      "Validation score: 0.115036\n",
      "Iteration 29, loss = 213823.00289684\n",
      "Validation score: 0.100628\n",
      "Iteration 30, loss = 212656.46315145\n",
      "Validation score: 0.001986\n",
      "Iteration 31, loss = 213357.39701109\n",
      "Validation score: 0.118661\n",
      "Iteration 32, loss = 214341.61291790\n",
      "Validation score: 0.119096\n",
      "Iteration 33, loss = 213932.60716274\n",
      "Validation score: 0.118789\n",
      "Iteration 34, loss = 218692.12274314\n",
      "Validation score: 0.110823\n",
      "Iteration 35, loss = 218306.05011813\n",
      "Validation score: 0.089329\n",
      "Iteration 36, loss = 211208.14442841\n",
      "Validation score: 0.057634\n",
      "Iteration 37, loss = 213790.71157008\n",
      "Validation score: 0.113666\n",
      "Iteration 38, loss = 209829.92383583\n",
      "Validation score: 0.108171\n",
      "Iteration 39, loss = 207873.39493888\n",
      "Validation score: 0.126665\n",
      "Iteration 40, loss = 207384.29074671\n",
      "Validation score: 0.128761\n",
      "Iteration 41, loss = 209291.18201527\n",
      "Validation score: 0.121481\n",
      "Iteration 42, loss = 210064.44591815\n",
      "Validation score: 0.130024\n",
      "Iteration 43, loss = 206498.82669107\n",
      "Validation score: 0.112977\n",
      "Iteration 44, loss = 206300.15734339\n",
      "Validation score: 0.128221\n",
      "Iteration 45, loss = 208847.00867204\n",
      "Validation score: 0.126546\n",
      "Iteration 46, loss = 213794.69986541\n",
      "Validation score: 0.125111\n",
      "Iteration 47, loss = 208681.33361473\n",
      "Validation score: 0.114960\n",
      "Iteration 48, loss = 205763.12745252\n",
      "Validation score: -0.461063\n",
      "Iteration 49, loss = 243822.76376013\n",
      "Validation score: 0.061078\n",
      "Iteration 50, loss = 209595.62310308\n",
      "Validation score: 0.106026\n",
      "Iteration 51, loss = 204867.66199108\n",
      "Validation score: 0.129011\n",
      "Iteration 52, loss = 203744.36139892\n",
      "Validation score: 0.101975\n",
      "Iteration 53, loss = 206040.55551565\n",
      "Validation score: 0.109582\n",
      "Iteration 54, loss = 204440.30006885\n",
      "Validation score: 0.140683\n",
      "Iteration 55, loss = 202713.15254543\n",
      "Validation score: 0.141244\n",
      "Iteration 56, loss = 204190.62435182\n",
      "Validation score: 0.110974\n",
      "Iteration 57, loss = 207209.39962831\n",
      "Validation score: 0.056069\n",
      "Iteration 58, loss = 206346.46320897\n",
      "Validation score: 0.117163\n",
      "Iteration 59, loss = 204521.05059927\n",
      "Validation score: -0.006199\n",
      "Iteration 60, loss = 208328.35571968\n",
      "Validation score: 0.089668\n",
      "Iteration 61, loss = 214544.64793579\n",
      "Validation score: 0.014089\n",
      "Iteration 62, loss = 203442.73251301\n",
      "Validation score: 0.147535\n",
      "Iteration 63, loss = 201438.20722774\n",
      "Validation score: 0.146633\n",
      "Iteration 64, loss = 199574.18026936\n",
      "Validation score: 0.149721\n",
      "Iteration 65, loss = 200211.13637339\n",
      "Validation score: 0.138779\n",
      "Iteration 66, loss = 198450.51273913\n",
      "Validation score: 0.114631\n",
      "Iteration 67, loss = 203528.68335543\n",
      "Validation score: 0.137703\n",
      "Iteration 68, loss = 197869.54239366\n",
      "Validation score: 0.151144\n",
      "Iteration 69, loss = 199709.06101671\n",
      "Validation score: 0.124045\n",
      "Iteration 70, loss = 196880.49325254\n",
      "Validation score: 0.155916\n",
      "Iteration 71, loss = 199564.33906431\n",
      "Validation score: 0.155992\n",
      "Iteration 72, loss = 198285.88472223\n",
      "Validation score: 0.155857\n",
      "Iteration 73, loss = 196647.52870740\n",
      "Validation score: 0.159494\n",
      "Iteration 74, loss = 196646.09782522\n",
      "Validation score: 0.158898\n",
      "Iteration 75, loss = 195178.12748822\n",
      "Validation score: 0.152586\n",
      "Iteration 76, loss = 197236.60002882\n",
      "Validation score: 0.109240\n",
      "Iteration 77, loss = 201796.71752161\n",
      "Validation score: 0.161720\n",
      "Iteration 78, loss = 196969.21102391\n",
      "Validation score: 0.143545\n",
      "Iteration 79, loss = 195626.74154718\n",
      "Validation score: 0.102558\n",
      "Iteration 80, loss = 206310.75891463\n",
      "Validation score: 0.142748\n",
      "Iteration 81, loss = 199165.79366385\n",
      "Validation score: 0.127832\n",
      "Iteration 82, loss = 194235.03495248\n",
      "Validation score: 0.145560\n",
      "Iteration 83, loss = 193150.85719602\n",
      "Validation score: 0.112054\n",
      "Iteration 84, loss = 191962.73477015\n",
      "Validation score: 0.166984\n",
      "Iteration 85, loss = 192778.33447451\n",
      "Validation score: 0.168716\n",
      "Iteration 86, loss = 191369.77759663\n",
      "Validation score: 0.122718\n",
      "Iteration 87, loss = 192572.82826685\n",
      "Validation score: 0.167238\n",
      "Iteration 88, loss = 190617.95344214\n",
      "Validation score: 0.111528\n",
      "Iteration 89, loss = 193167.20302892\n",
      "Validation score: 0.041013\n",
      "Iteration 90, loss = 211295.14768596\n",
      "Validation score: 0.137312\n",
      "Iteration 91, loss = 195050.97721796\n",
      "Validation score: 0.159655\n",
      "Iteration 92, loss = 191643.03250554\n",
      "Validation score: 0.168505\n",
      "Iteration 93, loss = 190549.75554449\n",
      "Validation score: 0.121865\n",
      "Iteration 94, loss = 198227.19073442\n",
      "Validation score: 0.146620\n",
      "Iteration 95, loss = 189718.50192062\n",
      "Validation score: 0.155577\n",
      "Iteration 96, loss = 190920.22178320\n",
      "Validation score: 0.157982\n",
      "Iteration 97, loss = 190588.61181893\n",
      "Validation score: 0.176736\n",
      "Iteration 98, loss = 187459.25144964\n",
      "Validation score: 0.167427\n",
      "Iteration 99, loss = 187099.52032036\n",
      "Validation score: 0.181932\n",
      "Iteration 100, loss = 188599.75474570\n",
      "Validation score: 0.180659\n",
      "Iteration 101, loss = 186894.90306165\n",
      "Validation score: 0.123043\n",
      "Iteration 102, loss = 199920.76725952\n",
      "Validation score: 0.120797\n",
      "Iteration 103, loss = 188153.44697350\n",
      "Validation score: 0.107252\n",
      "Iteration 104, loss = 190816.48366777\n",
      "Validation score: -0.241184\n",
      "Iteration 105, loss = 202376.01539499\n",
      "Validation score: 0.155465\n",
      "Iteration 106, loss = 188792.52644448\n",
      "Validation score: 0.181085\n",
      "Iteration 107, loss = 184661.42039500\n",
      "Validation score: -0.001441\n",
      "Iteration 108, loss = 186983.39579626\n",
      "Validation score: 0.150278\n",
      "Iteration 109, loss = 184561.00395317\n",
      "Validation score: 0.181790\n",
      "Iteration 110, loss = 188346.00614177\n",
      "Validation score: 0.179107\n",
      "Iteration 111, loss = 183062.31438669\n",
      "Validation score: 0.186380\n",
      "Iteration 112, loss = 183497.12824797\n",
      "Validation score: 0.186411\n",
      "Iteration 113, loss = 186837.30755948\n",
      "Validation score: 0.182620\n",
      "Iteration 114, loss = 182296.68825382\n",
      "Validation score: 0.190376\n",
      "Iteration 115, loss = 186383.24163916\n",
      "Validation score: 0.140562\n",
      "Iteration 116, loss = 196293.63868019\n",
      "Validation score: 0.163738\n",
      "Iteration 117, loss = 181440.03486958\n",
      "Validation score: 0.155316\n",
      "Iteration 118, loss = 182733.25423675\n",
      "Validation score: 0.186210\n",
      "Iteration 119, loss = 180371.03960488\n",
      "Validation score: 0.183558\n",
      "Iteration 120, loss = 181407.14364392\n",
      "Validation score: 0.191056\n",
      "Iteration 121, loss = 181758.66913488\n",
      "Validation score: 0.168393\n",
      "Iteration 122, loss = 180305.61994644\n",
      "Validation score: 0.158330\n",
      "Iteration 123, loss = 184083.35338981\n",
      "Validation score: 0.189961\n",
      "Iteration 124, loss = 184509.79092786\n",
      "Validation score: 0.189117\n",
      "Iteration 125, loss = 179078.68324673\n",
      "Validation score: 0.179120\n",
      "Iteration 126, loss = 190961.75763396\n",
      "Validation score: 0.179404\n",
      "Iteration 127, loss = 185710.41310241\n",
      "Validation score: 0.183599\n",
      "Iteration 128, loss = 182002.49788635\n",
      "Validation score: 0.184506\n",
      "Iteration 129, loss = 186392.93760082\n",
      "Validation score: 0.051616\n",
      "Iteration 130, loss = 184020.93746686\n",
      "Validation score: 0.180572\n",
      "Iteration 131, loss = 191494.40768187\n",
      "Validation score: -0.108745\n",
      "Iteration 132, loss = 185448.30347798\n",
      "Validation score: 0.153167\n",
      "Iteration 133, loss = 176669.78335997\n",
      "Validation score: 0.074201\n",
      "Iteration 134, loss = 178292.77970436\n",
      "Validation score: -0.548892\n",
      "Iteration 135, loss = 197309.60175153\n",
      "Validation score: 0.179212\n",
      "Iteration 136, loss = 181429.56878624\n",
      "Validation score: 0.014764\n",
      "Iteration 137, loss = 184735.18661050\n",
      "Validation score: 0.171644\n",
      "Iteration 138, loss = 176691.84753792\n",
      "Validation score: 0.189376\n",
      "Iteration 139, loss = 177124.21022801\n",
      "Validation score: 0.184348\n",
      "Iteration 140, loss = 178752.47937295\n",
      "Validation score: 0.195918\n",
      "Iteration 141, loss = 173587.33407710\n",
      "Validation score: 0.173559\n",
      "Iteration 142, loss = 177253.03581231\n",
      "Validation score: 0.200710\n",
      "Iteration 143, loss = 173733.32717255\n",
      "Validation score: 0.195881\n",
      "Iteration 144, loss = 174368.77512241\n",
      "Validation score: 0.198868\n",
      "Iteration 145, loss = 178230.69788635\n",
      "Validation score: 0.188522\n",
      "Iteration 146, loss = 173330.75140523\n",
      "Validation score: 0.200714\n",
      "Iteration 147, loss = 172894.91166587\n",
      "Validation score: 0.175328\n",
      "Iteration 148, loss = 177050.21143017\n",
      "Validation score: 0.201609\n",
      "Iteration 149, loss = 172168.95528376\n",
      "Validation score: 0.202989\n",
      "Iteration 150, loss = 174764.65425797\n",
      "Validation score: 0.181637\n",
      "Iteration 151, loss = 173514.76004282\n",
      "Validation score: 0.171218\n",
      "Iteration 152, loss = 174902.37475961\n",
      "Validation score: 0.203962\n",
      "Iteration 153, loss = 173226.01603185\n",
      "Validation score: 0.168451\n",
      "Iteration 154, loss = 173414.08544665\n",
      "Validation score: 0.179101\n",
      "Iteration 155, loss = 173545.85124972\n",
      "Validation score: 0.193928\n",
      "Iteration 156, loss = 173506.54390781\n",
      "Validation score: 0.194032\n",
      "Iteration 157, loss = 168585.66764141\n",
      "Validation score: 0.200469\n",
      "Iteration 158, loss = 168770.07645594\n",
      "Validation score: 0.191665\n",
      "Iteration 159, loss = 172354.53906443\n",
      "Validation score: 0.194729\n",
      "Iteration 160, loss = 174806.83050906\n",
      "Validation score: 0.184932\n",
      "Iteration 161, loss = 169705.10897939\n",
      "Validation score: 0.198594\n",
      "Iteration 162, loss = 170680.57024908\n",
      "Validation score: 0.171968\n",
      "Iteration 163, loss = 179363.08133005\n",
      "Validation score: 0.160035\n",
      "Iteration 164, loss = 178274.28530043\n",
      "Validation score: 0.182056\n",
      "Iteration 165, loss = 172143.30265409\n",
      "Validation score: 0.196691\n",
      "Iteration 166, loss = 167189.51424330\n",
      "Validation score: 0.178480\n",
      "Iteration 167, loss = 170655.87799335\n",
      "Validation score: 0.165280\n",
      "Iteration 168, loss = 166849.23166461\n",
      "Validation score: 0.205216\n",
      "Iteration 169, loss = 168580.09525221\n",
      "Validation score: 0.207719\n",
      "Iteration 170, loss = 167602.84503649\n",
      "Validation score: 0.203321\n",
      "Iteration 171, loss = 168421.58964257\n",
      "Validation score: 0.146130\n",
      "Iteration 172, loss = 180862.90678524\n",
      "Validation score: 0.164758\n",
      "Iteration 173, loss = 168657.58647623\n",
      "Validation score: 0.194319\n",
      "Iteration 174, loss = 172092.12335643\n",
      "Validation score: 0.170705\n",
      "Iteration 175, loss = 170102.27712720\n",
      "Validation score: 0.177841\n",
      "Iteration 176, loss = 167764.20700577\n",
      "Validation score: 0.185601\n",
      "Iteration 177, loss = 165679.44277289\n",
      "Validation score: -0.605481\n",
      "Iteration 178, loss = 224803.98436523\n",
      "Validation score: 0.134695\n",
      "Iteration 179, loss = 181037.50884708\n",
      "Validation score: 0.171083\n",
      "Iteration 180, loss = 176955.85342585\n",
      "Validation score: 0.187952\n",
      "Iteration 181, loss = 166574.62697002\n",
      "Validation score: 0.156261\n",
      "Iteration 182, loss = 167573.87496016\n",
      "Validation score: 0.172596\n",
      "Iteration 183, loss = 168409.90142655\n",
      "Validation score: 0.210329\n",
      "Iteration 184, loss = 164977.25758399\n",
      "Validation score: 0.149098\n",
      "Iteration 185, loss = 164199.21109527\n",
      "Validation score: 0.184959\n",
      "Iteration 186, loss = 164820.50953631\n",
      "Validation score: 0.173338\n",
      "Iteration 187, loss = 164368.45835477\n",
      "Validation score: 0.213267\n",
      "Iteration 188, loss = 165394.70090489\n",
      "Validation score: 0.207488\n",
      "Iteration 189, loss = 165727.33488281\n",
      "Validation score: 0.208148\n",
      "Iteration 190, loss = 159752.83734915\n",
      "Validation score: 0.153124\n",
      "Iteration 191, loss = 162797.40676828\n",
      "Validation score: 0.213953\n",
      "Iteration 192, loss = 161938.82898603\n",
      "Validation score: 0.128306\n",
      "Iteration 193, loss = 175333.69458649\n",
      "Validation score: 0.189912\n",
      "Iteration 194, loss = 166393.05651925\n",
      "Validation score: 0.202573\n",
      "Iteration 195, loss = 165827.11956946\n",
      "Validation score: -0.053492\n",
      "Iteration 196, loss = 171460.84440989\n",
      "Validation score: 0.148751\n",
      "Iteration 197, loss = 166669.23448837\n",
      "Validation score: 0.181624\n",
      "Iteration 198, loss = 165813.39087301\n",
      "Validation score: 0.196696\n",
      "Iteration 199, loss = 166764.44034701\n",
      "Validation score: 0.179661\n",
      "Iteration 200, loss = 165194.61062714\n",
      "Validation score: 0.186069\n",
      "Iteration 201, loss = 161567.37979463\n",
      "Validation score: 0.180537\n",
      "Iteration 202, loss = 158900.90730507\n",
      "Validation score: 0.151323\n",
      "Iteration 203, loss = 164041.39257455\n",
      "Validation score: 0.154074\n",
      "Validation score did not improve more than tol=0.100000 for 200 consecutive epochs. Stopping.\n"
     ]
    },
    {
     "data": {
      "text/plain": [
       "MLPRegressor(early_stopping=True, hidden_layer_sizes=(100, 50), max_iter=10000,\n",
       "             n_iter_no_change=200, tol=0.1, verbose=True)"
      ]
     },
     "execution_count": 745,
     "metadata": {},
     "output_type": "execute_result"
    }
   ],
   "source": [
    "mlp = MLPRegressor(verbose=True, validation_fraction=0.1, max_iter=10000, tol=.1, hidden_layer_sizes=(100, 50), early_stopping=True, n_iter_no_change=200 )\n",
    "mlp.fit(xtrain, ytrain)"
   ]
  },
  {
   "cell_type": "code",
   "execution_count": 742,
   "id": "74a56be0-9c23-4395-8f5b-3fc2f92c7239",
   "metadata": {},
   "outputs": [
    {
     "data": {
      "text/plain": [
       "array([735.8380218 , 384.94073527, 666.283263  , ..., 525.83094246,\n",
       "       337.18291784, 349.68379988])"
      ]
     },
     "execution_count": 742,
     "metadata": {},
     "output_type": "execute_result"
    }
   ],
   "source": [
    "mlp.predict(xval)"
   ]
  },
  {
   "cell_type": "code",
   "execution_count": 657,
   "id": "58a5a5fa-27cf-4119-9430-0047ae8a5be4",
   "metadata": {},
   "outputs": [],
   "source": [
    "df_processed.to_csv('processed.csv')"
   ]
  },
  {
   "cell_type": "code",
   "execution_count": 690,
   "id": "e8efda51-03e3-493e-a15b-35757f371e93",
   "metadata": {},
   "outputs": [],
   "source": [
    "df_test['Price'] = 2000"
   ]
  },
  {
   "cell_type": "code",
   "execution_count": 691,
   "id": "29d55dfe-47b1-416f-8da2-4e88a42b7b5e",
   "metadata": {},
   "outputs": [],
   "source": [
    "df_test.to_excel('submission.xlsx')"
   ]
  },
  {
   "cell_type": "code",
   "execution_count": 818,
   "id": "0cd2d8d8-0d4b-4384-806a-afd7ee886f10",
   "metadata": {},
   "outputs": [
    {
     "name": "stderr",
     "output_type": "stream",
     "text": [
      "/Users/kdang/anaconda3/envs/kaggle/lib/python3.7/site-packages/pandas/core/strings/accessor.py:101: UserWarning: This pattern has match groups. To actually get the groups, use str.extract.\n",
      "  return func(self, *args, **kwargs)\n",
      "/Users/kdang/Documents/machinehack/predict_the_price_of_books/Untitled.py:225: FutureWarning: The default value of regex will change from True to False in a future version.\n",
      "  .str.replace(\"[^\\w\\s]\", \"\")\n"
     ]
    },
    {
     "name": "stdout",
     "output_type": "stream",
     "text": [
      "<class 'pandas.core.frame.DataFrame'>\n",
      "RangeIndex: 6237 entries, 0 to 6236\n",
      "Data columns (total 26 columns):\n",
      " #   Column              Non-Null Count  Dtype  \n",
      "---  ------              --------------  -----  \n",
      " 0   Title               6237 non-null   object \n",
      " 1   Author              6237 non-null   object \n",
      " 2   Edition             6237 non-null   object \n",
      " 3   Reviews             6237 non-null   object \n",
      " 4   Ratings             6237 non-null   object \n",
      " 5   Synopsis            6237 non-null   object \n",
      " 6   Genre               6237 non-null   object \n",
      " 7   BookCategory        6237 non-null   object \n",
      " 8   Price               6237 non-null   float64\n",
      " 9   RatingValue         6237 non-null   float64\n",
      " 10  NumReview           6237 non-null   int64  \n",
      " 11  EditionDate         6216 non-null   object \n",
      " 12  Year                6237 non-null   int64  \n",
      " 13  Month               6237 non-null   object \n",
      " 14  Day                 6237 non-null   float64\n",
      " 15  PrintEdition        6237 non-null   object \n",
      " 16  IsImported          6237 non-null   int64  \n",
      " 17  IsBook              6237 non-null   int64  \n",
      " 18  IsMultipleAuthor    6237 non-null   int64  \n",
      " 19  IsSpecialAuthor     6237 non-null   int64  \n",
      " 20  SynopsisToken       6237 non-null   object \n",
      " 21  SynopsisVector      6237 non-null   object \n",
      " 22  BookCategoryVector  6237 non-null   object \n",
      " 23  TitleVector         6237 non-null   object \n",
      " 24  GenreVector         6237 non-null   object \n",
      " 25  PriceBinned         6237 non-null   int64  \n",
      "dtypes: float64(3), int64(7), object(16)\n",
      "memory usage: 1.2+ MB\n",
      "<class 'pandas.core.frame.DataFrame'>\n",
      "RangeIndex: 6237 entries, 0 to 6236\n",
      "Data columns (total 16 columns):\n",
      " #   Column              Non-Null Count  Dtype  \n",
      "---  ------              --------------  -----  \n",
      " 0   Price               6237 non-null   float64\n",
      " 1   RatingValue         6237 non-null   float64\n",
      " 2   NumReview           6237 non-null   int64  \n",
      " 3   Year                6237 non-null   int64  \n",
      " 4   Month               6237 non-null   object \n",
      " 5   Day                 6237 non-null   float64\n",
      " 6   PrintEdition        6237 non-null   object \n",
      " 7   IsImported          6237 non-null   int64  \n",
      " 8   IsBook              6237 non-null   int64  \n",
      " 9   IsMultipleAuthor    6237 non-null   int64  \n",
      " 10  IsSpecialAuthor     6237 non-null   int64  \n",
      " 11  SynopsisVector      6237 non-null   object \n",
      " 12  BookCategoryVector  6237 non-null   object \n",
      " 13  TitleVector         6237 non-null   object \n",
      " 14  GenreVector         6237 non-null   object \n",
      " 15  PriceBinned         6237 non-null   int64  \n",
      "dtypes: float64(3), int64(7), object(6)\n",
      "memory usage: 779.8+ KB\n",
      "wrote to file df_train_processed.csv\n"
     ]
    },
    {
     "name": "stderr",
     "output_type": "stream",
     "text": [
      "/Users/kdang/anaconda3/envs/kaggle/lib/python3.7/site-packages/pandas/core/strings/accessor.py:101: UserWarning: This pattern has match groups. To actually get the groups, use str.extract.\n",
      "  return func(self, *args, **kwargs)\n",
      "/Users/kdang/Documents/machinehack/predict_the_price_of_books/Untitled.py:225: FutureWarning: The default value of regex will change from True to False in a future version.\n",
      "  .str.replace(\"[^\\w\\s]\", \"\")\n"
     ]
    },
    {
     "name": "stdout",
     "output_type": "stream",
     "text": [
      "<class 'pandas.core.frame.DataFrame'>\n",
      "RangeIndex: 1560 entries, 0 to 1559\n",
      "Data columns (total 25 columns):\n",
      " #   Column              Non-Null Count  Dtype  \n",
      "---  ------              --------------  -----  \n",
      " 0   Title               1560 non-null   object \n",
      " 1   Author              1560 non-null   object \n",
      " 2   Edition             1560 non-null   object \n",
      " 3   Reviews             1560 non-null   object \n",
      " 4   Ratings             1560 non-null   object \n",
      " 5   Synopsis            1560 non-null   object \n",
      " 6   Genre               1560 non-null   object \n",
      " 7   BookCategory        1560 non-null   object \n",
      " 8   Price               1560 non-null   float32\n",
      " 9   RatingValue         1560 non-null   float64\n",
      " 10  NumReview           1560 non-null   int64  \n",
      " 11  EditionDate         1551 non-null   object \n",
      " 12  Year                1560 non-null   int64  \n",
      " 13  Month               1560 non-null   object \n",
      " 14  Day                 1560 non-null   float64\n",
      " 15  PrintEdition        1560 non-null   object \n",
      " 16  IsImported          1560 non-null   int64  \n",
      " 17  IsBook              1560 non-null   int64  \n",
      " 18  IsMultipleAuthor    1560 non-null   int64  \n",
      " 19  IsSpecialAuthor     1560 non-null   int64  \n",
      " 20  SynopsisToken       1560 non-null   object \n",
      " 21  SynopsisVector      1560 non-null   object \n",
      " 22  BookCategoryVector  1560 non-null   object \n",
      " 23  TitleVector         1560 non-null   object \n",
      " 24  GenreVector         1560 non-null   object \n",
      "dtypes: float32(1), float64(2), int64(6), object(16)\n",
      "memory usage: 298.7+ KB\n",
      "<class 'pandas.core.frame.DataFrame'>\n",
      "RangeIndex: 1560 entries, 0 to 1559\n",
      "Data columns (total 15 columns):\n",
      " #   Column              Non-Null Count  Dtype  \n",
      "---  ------              --------------  -----  \n",
      " 0   Price               1560 non-null   float32\n",
      " 1   RatingValue         1560 non-null   float64\n",
      " 2   NumReview           1560 non-null   int64  \n",
      " 3   Year                1560 non-null   int64  \n",
      " 4   Month               1560 non-null   object \n",
      " 5   Day                 1560 non-null   float64\n",
      " 6   PrintEdition        1560 non-null   object \n",
      " 7   IsImported          1560 non-null   int64  \n",
      " 8   IsBook              1560 non-null   int64  \n",
      " 9   IsMultipleAuthor    1560 non-null   int64  \n",
      " 10  IsSpecialAuthor     1560 non-null   int64  \n",
      " 11  SynopsisVector      1560 non-null   object \n",
      " 12  BookCategoryVector  1560 non-null   object \n",
      " 13  TitleVector         1560 non-null   object \n",
      " 14  GenreVector         1560 non-null   object \n",
      "dtypes: float32(1), float64(2), int64(6), object(6)\n",
      "memory usage: 176.8+ KB\n",
      "wrote to file df_test_processed.csv\n"
     ]
    },
    {
     "data": {
      "image/png": "[encoded data removed]",
      "text/plain": [
       "<Figure size 432x288 with 1 Axes>"
      ]
     },
     "metadata": {
      "needs_background": "light"
     },
     "output_type": "display_data"
    }
   ],
   "source": [
    "from Untitled import process_df\n",
    "from livelossplot import PlotLossesKeras\n",
    "import tensorflow as tf\n",
    "import keras\n",
    "df_train_processed = process_df(df, target_file=\"df_train_processed.csv\")\n",
    "df_test_processed = process_df(df_test, target_file='df_test_processed.csv', is_test=True)"
   ]
  },
  {
   "cell_type": "code",
   "execution_count": 836,
   "id": "54d86570-aa6e-442c-bfd4-decbbaa55e45",
   "metadata": {},
   "outputs": [
    {
     "name": "stdout",
     "output_type": "stream",
     "text": [
      "479 479 480\n"
     ]
    }
   ],
   "source": [
    "len(df_train_processed.columns), len(df_test_processed.columns)\n"
   ]
  },
  {
   "cell_type": "code",
   "execution_count": 837,
   "id": "58800577-f470-475e-a01c-ad6c49d66aa5",
   "metadata": {},
   "outputs": [],
   "source": [
    "\n",
    "def log10(x):\n",
    "    numerator = tf.math.log(x)\n",
    "    denominator = tf.math.log(tf.constant(10, dtype=numerator.dtype))\n",
    "    return numerator / denominator\n",
    "\n",
    "def metric(ypred, yval):\n",
    "    return 1 - tf.math.reduce_mean(tf.sqrt(tf.square(log10(ypred + 1) - log10(yval + 1))))\n",
    "\n",
    "def metric_np(y_pred, y_true):\n",
    "    return 1 - np.sqrt(np.square(np.log10(y_pred +1) - np.log10(y_true +1)).mean())\n",
    "\n",
    "def create_model():\n",
    "    model = Sequential()\n",
    "    model.add(Dense(100, input_dim=len(df_processed.columns)-1, activation=\"relu\"))\n",
    "#     model.add(Dense(40, activation=\"relu\", kernel_regularizer=keras.regularizers.l1_l2(l1=1e-5, l2=1e-4)))\n",
    "#     model.add(Dense(20, activation=\"relu\", kernel_regularizer=keras.regularizers.l1_l2(l1=1e-5, l2=1e-4)))\n",
    "    model.add(Dense(1))\n",
    "    optim = tf.keras.optimizers.Adam(learning_rate=1e-4)\n",
    "    model.compile(\n",
    "        loss='mean_squared_error',\n",
    "        optimizer=adam,\n",
    "        metrics=[tf.keras.metrics.MeanSquaredError(), metric],\n",
    "    )\n",
    "    return model\n",
    "\n",
    "model = KerasRegressor(\n",
    "    build_fn=create_model,\n",
    "    epochs=1500,\n",
    "    batch_size=100,\n",
    "    verbose=1,\n",
    ")\n",
    "\n",
    "early_stopping = tf.keras.callbacks.EarlyStopping(\n",
    "    monitor=\"mean_squared_error\",\n",
    "    min_delta=1e-4,\n",
    "    patience=10,\n",
    "    verbose=1,\n",
    "    mode=\"auto\",\n",
    ")\n",
    "# model.fit(X, Y, callbacks=[PlotLossesKeras(), early_stopping], validation_data=(xval, yval), batch_size=20)\n",
    "# model.fit(X, Y, callbacks=[PlotLossesKeras(), early_stopping], batch_size=20)"
   ]
  },
  {
   "cell_type": "code",
   "execution_count": null,
   "id": "60332bd1-7be1-48e3-89ee-9237c27db97f",
   "metadata": {},
   "outputs": [],
   "source": [
    "\n",
    "model = KerasRegressor(build_fn=create_model, epochs=1000, batch_size=10, verbose=0, callbacks=[PlotLossesKeras(), early_stopping])\n",
    "kfold = KFold(n_splits=5, shuffle=True, random_state=42)\n",
    "results = cross_validate(model, xtrain, ytrain, cv=kfold, scoring={'main': 'neg_mean_squared_error', 'custom': make_scorer(metric_np, greater_is_better=True)}\n",
    "                            , n_jobs=-1, verbose=0)\n",
    "results"
   ]
  },
  {
   "cell_type": "code",
   "execution_count": 840,
   "id": "52ab48ea-15f3-47b9-90a8-0adc08d9e2a1",
   "metadata": {},
   "outputs": [
    {
     "data": {
      "image/png": "[encoded data removed]",
      "text/plain": [
       "<Figure size 864x864 with 4 Axes>"
      ]
     },
     "metadata": {
      "needs_background": "light"
     },
     "output_type": "display_data"
    },
    {
     "name": "stdout",
     "output_type": "stream",
     "text": [
      "Loss\n",
      "\ttraining         \t (min:    0.000, max:    0.020, cur:    0.000)\n",
      "\tvalidation       \t (min:    0.001, max:    0.007, cur:    0.001)\n",
      "mean_squared_error\n",
      "\ttraining         \t (min:    0.000, max:    0.041, cur:    0.000)\n",
      "\tvalidation       \t (min:    0.000, max:    0.018, cur:    0.000)\n",
      "metric\n",
      "\ttraining         \t (min:    0.957, max:    0.999, cur:    0.999)\n",
      "\tvalidation       \t (min:    0.973, max:    0.992, cur:    0.992)\n",
      "Epoch 00456: early stopping\n"
     ]
    },
    {
     "data": {
      "text/plain": [
       "<keras.callbacks.History at 0x7fb62440c310>"
      ]
     },
     "execution_count": 840,
     "metadata": {},
     "output_type": "execute_result"
    }
   ],
   "source": [
    "early_stopping = tf.keras.callbacks.EarlyStopping(\n",
    "    monitor=\"mean_squared_error\",\n",
    "    min_delta=1e-5,\n",
    "    patience=20,\n",
    "    verbose=1,\n",
    "    mode=\"auto\",\n",
    ")\n",
    "model = KerasRegressor(build_fn=create_model, epochs=1000, batch_size=10, verbose=1, callbacks=[PlotLossesKeras(), early_stopping])\n",
    "model.fit(xtrain, ytrain, callbacks=[PlotLossesKeras(), early_stopping], validation_data=(xtest, ytest))"
   ]
  },
  {
   "cell_type": "code",
   "execution_count": 845,
   "id": "8f90c66f-6cdf-4119-9d11-88ce2042cc2e",
   "metadata": {},
   "outputs": [
    {
     "data": {
      "text/plain": [
       "(466, 479)"
      ]
     },
     "execution_count": 845,
     "metadata": {},
     "output_type": "execute_result"
    }
   ],
   "source": [
    "len(df_test_processed.columns), len(xtrain.columns)"
   ]
  },
  {
   "cell_type": "code",
   "execution_count": 958,
   "id": "13d89d7b-2f26-497b-8539-45a7a2ded538",
   "metadata": {},
   "outputs": [],
   "source": [
    "import os\n",
    "# prepare to generate word embbeding vectors\n",
    "glove_input_file = \"/Users/kdang/Documents/glove.6B/glove.6B.100d.txt\"\n",
    "word2vec_output_file = \"glove.6B.100d.txt.word2vec\"\n",
    "\n",
    "if not os.path.exists(word2vec_output_file):\n",
    "    glove2word2vec(glove_input_file, word2vec_output_file)\n",
    "\n",
    "word_model = KeyedVectors.load_word2vec_format(word2vec_output_file)\n",
    "\n",
    "def process_df(df, target_file=None, is_test=False):\n",
    "    df = df.copy()\n",
    "    df[\"RatingValue\"] = df[\"Reviews\"].apply(lambda x: float(x.split()[0]) / 5)\n",
    "    df[\"NumReview\"] = df[\"Ratings\"].apply(lambda x: int(x.split()[0].replace(\",\", \"\")))\n",
    "    months = [\n",
    "        \"Jan\",\n",
    "        \"Feb\",\n",
    "        \"Mar\",\n",
    "        \"Apr\",\n",
    "        \"May\",\n",
    "        \"Jun\",\n",
    "        \"Jul\",\n",
    "        \"Aug\",\n",
    "        \"Sep\",\n",
    "        \"Oct\",\n",
    "        \"Nov\",\n",
    "        \"Dec\",\n",
    "    ]\n",
    "    monthsMaxDays = {\n",
    "        \"Jan\": 31,\n",
    "        \"Feb\": 28,\n",
    "        \"Mar\": 31,\n",
    "        \"Apr\": 30,\n",
    "        \"May\": 31,\n",
    "        \"Jun\": 30,\n",
    "        \"Jul\": 31,\n",
    "        \"Aug\": 31,\n",
    "        \"Sep\": 30,\n",
    "        \"Oct\": 31,\n",
    "        \"Nov\": 30,\n",
    "        \"Dec\": 31,\n",
    "    }\n",
    "    months_to_num = {}\n",
    "    for i, m in enumerate(months):\n",
    "        months_to_num[m] = i + 1\n",
    "    months_to_num\n",
    "\n",
    "    # In[583]:\n",
    "\n",
    "    df.Edition = df.Edition.apply(lambda x: x.replace(\"–\", \"-\").replace(\"-\", \"-\"))\n",
    "    df.loc[df.Edition.str.match(\".*\\(\\w+\\).*\"), \"Edition\"] = df.loc[\n",
    "        df.Edition.str.match(\".*\\(\\w+\\).*\"), \"Edition\"\n",
    "    ].apply(lambda x: re.sub(\"\\(\\w+\\),\", \"\", x))\n",
    "    df.loc[\n",
    "        df.Edition.str.match(r\".*[^\\d]+$\"), \"EditionDate\"\n",
    "    ] = np.nan  # pattern 1, year and month\n",
    "\n",
    "    df.loc[df.Edition.str.match(r\".*\\d+$\"), \"EditionDate\"] = df.Edition.apply(\n",
    "        lambda x: x.split(\",\")[-1].split(\"-\")[-1].strip()\n",
    "    )\n",
    "\n",
    "    df[\"Year\"] = df.EditionDate.apply(\n",
    "        lambda x: int(x[-4:].strip()) if pd.notnull(x) else np.nan\n",
    "    )\n",
    "    df[\"Month\"] = df.EditionDate.apply(\n",
    "        lambda x: x[-8:-4] if (pd.notnull(x) and len(x) > 8) else np.nan\n",
    "    )\n",
    "    df[\"Day\"] = df.EditionDate.apply(\n",
    "        lambda x: int(x[-11:-9].strip()) if (pd.notnull(x) and len(x) >= 10) else np.nan\n",
    "    )\n",
    "    sns.countplot(data=df, y=\"BookCategory\")\n",
    "    df[\"PrintEdition\"] = df.Edition.apply(lambda x: x.split(\",\")[0])\n",
    "    df[\"IsImported\"] = df.Edition.str.contains(\"Import\")\n",
    "    df[\"IsBook\"] = df.Genre.str.contains(\"(Books)\")\n",
    "    df[\"IsMultipleAuthor\"] = df.Author.str.match(\".*[,&-].*\")\n",
    "    df[\"IsSpecialAuthor\"] = df.Author.apply(\n",
    "        lambda x: any(\n",
    "            i\n",
    "            for i in x.lower().split()\n",
    "            if i\n",
    "            in [\n",
    "                \"phd.\",\n",
    "                \"phd\",\n",
    "                \"dr\",\n",
    "                \"dr.\",\n",
    "                \"prof\",\n",
    "                \"prof.\",\n",
    "                \"sir\",\n",
    "                \"sir.\",\n",
    "                \"m.d.\",\n",
    "                \"m.d.\",\n",
    "                \"mr\",\n",
    "                \"mr.\",\n",
    "                \"mrs\",\n",
    "                \"mrs.\",\n",
    "                \"m.a\",\n",
    "                \"m.a.\",\n",
    "            ]\n",
    "        )\n",
    "    )\n",
    "\n",
    "    def processTextColumn(df, col):\n",
    "        df[f\"{col}Token\"] = df[col].str.lower()\n",
    "        df[f\"{col}Token\"] = (\n",
    "            df[f\"{col}Token\"]\n",
    "            .str.replace(\"[^\\w\\s]\", \"\")\n",
    "            .apply(lambda x: [Word(i).lemmatize() for i in x.split()])\n",
    "        )\n",
    "        stop = stopwords.words(\"english\")\n",
    "        df[f\"{col}Token\"] = df[f\"{col}Token\"].apply(\n",
    "            lambda x: [i for i in x if i not in stop]\n",
    "        )\n",
    "        df[f\"{col}Vector\"] = df[f\"{col}Token\"].apply(\n",
    "            lambda x: np.mean(\n",
    "                [(word_model[i] if i in word_model else np.zeros(100)) for i in x], axis=0\n",
    "            )\n",
    "            if x\n",
    "            else np.zeros(100)\n",
    "        )\n",
    "    processTextColumn(df, \"Synopsis\")\n",
    "    processTextColumn(df, \"BookCategory\")\n",
    "    processTextColumn(df, \"Title\")\n",
    "    processTextColumn(df, \"Genre\")\n",
    "    df = df.drop(\n",
    "        columns=[\"BookCategoryToken\", \"BookCategoryToken\", \"TitleToken\", \"GenreToken\"]\n",
    "    )\n",
    "\n",
    "    min_year = df.Year.min()\n",
    "    max_year = df.Year.max()\n",
    "    df.loc[pd.isnull(df.Year), \"Year\"] = df.loc[pd.isnull(df.Year), \"Year\"].apply(\n",
    "        lambda x: random.randrange(min_year, max_year + 1)\n",
    "    )\n",
    "    df.loc[pd.isnull(df.Month), \"Month\"] = df.loc[pd.isnull(df.Month), \"Month\"].apply(\n",
    "        lambda x: random.choice(months)\n",
    "    )\n",
    "    df.loc[pd.isnull(df.Day), \"Day\"] = df.loc[\n",
    "        df.loc[pd.isnull(df.Day)].index, \"Month\"\n",
    "    ].apply(lambda x: random.randint(1, monthsMaxDays[x]))\n",
    "    df['Day'] = df['Day'].astype(int)\n",
    "#     if not is_test:\n",
    "#         bins = [0, 1000, 5000, 100000]\n",
    "#         df[\"PriceBinned\"] = np.searchsorted(bins, df[\"Price\"].values)\n",
    "\n",
    "    df[\"IsImported\"] = df[\"IsImported\"].astype(int)\n",
    "    df[\"Year\"] = df[\"Year\"].astype(int)\n",
    "    df[\"IsBook\"] = df[\"IsBook\"].astype(int)\n",
    "    df[\"IsMultipleAuthor\"] = df[\"IsMultipleAuthor\"].astype(int)\n",
    "    df[\"IsSpecialAuthor\"] = df[\"IsSpecialAuthor\"].astype(int)\n",
    "    df_processed = df.copy()\n",
    "    df_processed = df_processed.drop(\n",
    "        columns=\"Title Author Edition Reviews Ratings Synopsis Genre BookCategory EditionDate SynopsisToken\".split()\n",
    "    )\n",
    "    df_processed[\"Year\"] = MinMaxScaler().fit_transform([[i] for i in df.Year])\n",
    "    df_processed[\"NumReview\"] = MinMaxScaler().fit_transform(\n",
    "        [[i] for i in df.NumReview]\n",
    "    )\n",
    "    def categorical_to_column(df, col, unique_values):\n",
    "        print('-- unique values', unique_values)\n",
    "        for i in unique_values:\n",
    "            col_name = f\"{col}_{i}\"\n",
    "            df[col_name] = df[col]==i\n",
    "            df[col_name] = df[col_name].astype(int)\n",
    "            \n",
    "    categorical_to_column(df_processed, \"Month\", months)\n",
    "    categorical_to_column(df_processed, \"Day\", list(range(1, 32)))\n",
    "    categorical_to_column(\n",
    "        df_processed,\n",
    "        \"PrintEdition\",\n",
    "        [\n",
    "            \"Paperback\",\n",
    "            \"Hardcover\",\n",
    "            \"Mass Market Paperback\",\n",
    "            \"Sheet music\",\n",
    "            \"Flexibound\",\n",
    "            \"Plastic Comb\",\n",
    "            \"Loose Leaf\",\n",
    "            \"Tankobon Softcover\",\n",
    "            \"Perfect Paperback\",\n",
    "            \"Board book\",\n",
    "            \"Cards\",\n",
    "            \"Spiral-bound\",\n",
    "            \"Product Bundle\",\n",
    "            \"Library Binding\",\n",
    "            \"Leather Bound\",\n",
    "        ],\n",
    "    )\n",
    "    df_processed = df_processed.drop(columns=[\"Month\", \"Day\", \"PrintEdition\"])\n",
    "#     df_processed = df_processed.drop(columns=[\"Month\", \"PrintEdition\"])\n",
    "    for col in [\"GenreVector\", \"TitleVector\", \"BookCategoryVector\", \"SynopsisVector\"]:\n",
    "        for i in range(100):\n",
    "            df_processed[f\"{col}{i}\"] = df_processed[col].apply(lambda x: x[i])\n",
    "    df_processed = df_processed.drop(\n",
    "        columns=[\"GenreVector\", \"TitleVector\", \"BookCategoryVector\", \"SynopsisVector\"]\n",
    "    )\n",
    "    return df_processed"
   ]
  },
  {
   "cell_type": "code",
   "execution_count": 941,
   "id": "9e0b8190-f32e-437b-b00e-3dee71031382",
   "metadata": {},
   "outputs": [
    {
     "name": "stderr",
     "output_type": "stream",
     "text": [
      "/Users/kdang/anaconda3/envs/kaggle/lib/python3.7/site-packages/pandas/core/strings/accessor.py:101: UserWarning: This pattern has match groups. To actually get the groups, use str.extract.\n",
      "  return func(self, *args, **kwargs)\n",
      "/Users/kdang/anaconda3/envs/kaggle/lib/python3.7/site-packages/ipykernel_launcher.py:106: FutureWarning: The default value of regex will change from True to False in a future version.\n"
     ]
    },
    {
     "name": "stdout",
     "output_type": "stream",
     "text": [
      "-- unique values ['Jan', 'Feb', 'Mar', 'Apr', 'May', 'Jun', 'Jul', 'Aug', 'Sep', 'Oct', 'Nov', 'Dec']\n",
      "-- unique values [1, 2, 3, 4, 5, 6, 7, 8, 9, 10, 11, 12, 13, 14, 15, 16, 17, 18, 19, 20, 21, 22, 23, 24, 25, 26, 27, 28, 29, 30, 31]\n",
      "-- unique values ['Paperback', 'Hardcover', 'Mass Market Paperback', 'Sheet music', 'Flexibound', 'Plastic Comb', 'Loose Leaf', 'Tankobon Softcover', 'Perfect Paperback', 'Board book', 'Cards', 'Spiral-bound', 'Product Bundle', 'Library Binding', 'Leather Bound']\n"
     ]
    },
    {
     "name": "stderr",
     "output_type": "stream",
     "text": [
      "/Users/kdang/anaconda3/envs/kaggle/lib/python3.7/site-packages/pandas/core/strings/accessor.py:101: UserWarning: This pattern has match groups. To actually get the groups, use str.extract.\n",
      "  return func(self, *args, **kwargs)\n",
      "/Users/kdang/anaconda3/envs/kaggle/lib/python3.7/site-packages/ipykernel_launcher.py:106: FutureWarning: The default value of regex will change from True to False in a future version.\n"
     ]
    },
    {
     "name": "stdout",
     "output_type": "stream",
     "text": [
      "-- unique values ['Jan', 'Feb', 'Mar', 'Apr', 'May', 'Jun', 'Jul', 'Aug', 'Sep', 'Oct', 'Nov', 'Dec']\n",
      "-- unique values [1, 2, 3, 4, 5, 6, 7, 8, 9, 10, 11, 12, 13, 14, 15, 16, 17, 18, 19, 20, 21, 22, 23, 24, 25, 26, 27, 28, 29, 30, 31]\n",
      "-- unique values ['Paperback', 'Hardcover', 'Mass Market Paperback', 'Sheet music', 'Flexibound', 'Plastic Comb', 'Loose Leaf', 'Tankobon Softcover', 'Perfect Paperback', 'Board book', 'Cards', 'Spiral-bound', 'Product Bundle', 'Library Binding', 'Leather Bound']\n"
     ]
    },
    {
     "data": {
      "text/plain": [
       "(465, 466)"
      ]
     },
     "execution_count": 941,
     "metadata": {},
     "output_type": "execute_result"
    },
    {
     "data": {
      "image/png": "[encoded data removed]",
      "text/plain": [
       "<Figure size 432x288 with 1 Axes>"
      ]
     },
     "metadata": {
      "needs_background": "light"
     },
     "output_type": "display_data"
    }
   ],
   "source": [
    "df_train = pd.read_excel('Participants_Data/Data_Train.xlsx')\n",
    "df_train_processed = process_df(df_train)\n",
    "df_test = pd.read_excel('Participants_Data/Data_Test.xlsx')\n",
    "df_test_processed = process_df(df_test, is_test=True)\n",
    "len(df_test_processed.columns), len(df_train_processed.columns)"
   ]
  },
  {
   "cell_type": "code",
   "execution_count": 942,
   "id": "70496507-2373-4964-a85c-8957f0f762aa",
   "metadata": {},
   "outputs": [
    {
     "data": {
      "text/plain": [
       "{'Price'}"
      ]
     },
     "execution_count": 942,
     "metadata": {},
     "output_type": "execute_result"
    }
   ],
   "source": [
    "set(df_train_processed.columns).difference(set(df_test_processed.columns))"
   ]
  },
  {
   "cell_type": "code",
   "execution_count": 944,
   "id": "84c4efa2-fb27-451a-958d-edc055376c1c",
   "metadata": {},
   "outputs": [
    {
     "data": {
      "image/png": "[encoded data removed]",
      "text/plain": [
       "<Figure size 864x864 with 4 Axes>"
      ]
     },
     "metadata": {
      "needs_background": "light"
     },
     "output_type": "display_data"
    },
    {
     "name": "stdout",
     "output_type": "stream",
     "text": [
      "Loss\n",
      "\ttraining         \t (min:    0.245, max:    1.775, cur:    0.245)\n",
      "\tvalidation       \t (min:    0.354, max:    0.567, cur:    0.361)\n",
      "mean_squared_error\n",
      "\ttraining         \t (min:    0.391, max:    5.148, cur:    0.391)\n",
      "\tvalidation       \t (min:    0.389, max:    1.647, cur:    0.389)\n",
      "metric\n",
      "\ttraining         \t (min:    0.630, max:    0.838, cur:    0.838)\n",
      "\tvalidation       \t (min:    0.752, max:    0.804, cur:    0.803)\n",
      "Epoch 00029: early stopping\n"
     ]
    },
    {
     "data": {
      "text/plain": [
       "<keras.callbacks.History at 0x7fb532be7450>"
      ]
     },
     "execution_count": 944,
     "metadata": {},
     "output_type": "execute_result"
    }
   ],
   "source": [
    "import math\n",
    "def metric(ypred, yval):\n",
    "    ypred = math.e **ypred\n",
    "    yval = math.e**yval\n",
    "    return 1 - tf.math.reduce_mean(tf.sqrt(tf.square(log10(ypred + 1) - log10(yval + 1))))\n",
    "\n",
    "def create_model():\n",
    "    model = Sequential()\n",
    "    model.add(Dense(40, input_dim=len(df_train_processed.columns)-1, activation=\"relu\"))\n",
    "    model.add(Dense(20, activation=\"relu\"))\n",
    "    model.add(Dense(10, activation=\"relu\"))\n",
    "#     model.add(Dense(40, activation=\"relu\", kernel_regularizer=keras.regularizers.l1_l2(l1=1e-5, l2=1e-4)))\n",
    "#     model.add(Dense(20, activation=\"relu\", kernel_regularizer=keras.regularizers.l1_l2(l1=1e-5, l2=1e-4)))\n",
    "    model.add(Dense(1))\n",
    "    optim = tf.keras.optimizers.Adam(learning_rate=1e-4)\n",
    "    model.compile(\n",
    "        loss='mean_squared_error',\n",
    "        optimizer=adam,\n",
    "        metrics=[tf.keras.metrics.MeanSquaredError(), metric],\n",
    "    )\n",
    "    return model\n",
    "xtrain, xtest, ytrain, ytest = train_test_split(df_train_processed.drop(columns=['Price']), df_train_processed.Price, test_size=0.2, random_state=42)\n",
    "ytrain = np.log(ytrain)\n",
    "ytest = np.log(ytest)\n",
    "early_stopping = tf.keras.callbacks.EarlyStopping(\n",
    "    monitor=\"mean_squared_error\",\n",
    "    min_delta=1e-1,\n",
    "    patience=10,\n",
    "    verbose=1,\n",
    "    mode=\"auto\"\n",
    ")\n",
    "\n",
    "# model = KerasRegressor(build_fn=create_model, epochs=1000, batch_size=10, verbose=0, callbacks=[PlotLossesKeras(), early_stopping])\n",
    "# kfold = KFold(n_splits=5, shuffle=True, random_state=42)\n",
    "# results = cross_validate(model, xtrain, ytrain, cv=kfold, scoring={'main': 'neg_mean_squared_error', 'custom': make_scorer(metric_np, greater_is_better=True)}\n",
    "#                             , n_jobs=-1, verbose=1)\n",
    "# results\n",
    "# model = KerasRegressor(build_fn=create_model, epochs=1000, batch_size=10, verbose=1)\n",
    "# model.fit(xtrain, ytrain, callbacks=[PlotLossesKeras(), early_stopping], validation_data=(xtest, ytest))"
   ]
  },
  {
   "cell_type": "code",
   "execution_count": 939,
   "id": "92559e97-d48c-4409-b45e-065b159c2551",
   "metadata": {},
   "outputs": [
    {
     "data": {
      "text/plain": [
       "{'PriceBinned'}"
      ]
     },
     "execution_count": 939,
     "metadata": {},
     "output_type": "execute_result"
    }
   ],
   "source": [
    "set(xtrain.columns).difference(set(df_test_processed.columns))"
   ]
  },
  {
   "cell_type": "code",
   "execution_count": 945,
   "id": "6dde4ea7-e047-43e5-a5c8-ee5d7747b5d2",
   "metadata": {},
   "outputs": [
    {
     "name": "stdout",
     "output_type": "stream",
     "text": [
      "156/156 [==============================] - 0s 424us/step\n"
     ]
    }
   ],
   "source": [
    "price = model.predict(df_test_processed)\n",
    "price = math.e**price\n",
    "df_test['Price'] = price\n",
    "df_test.to_excel('test_submission.xlsx')"
   ]
  },
  {
   "cell_type": "code",
   "execution_count": 946,
   "id": "8df690d7-95a1-4314-86d2-34de195ac37c",
   "metadata": {},
   "outputs": [],
   "source": [
    "import lightgbm"
   ]
  },
  {
   "cell_type": "code",
   "execution_count": 947,
   "id": "bed454d5-c730-41df-8487-80d21d6551b0",
   "metadata": {},
   "outputs": [],
   "source": [
    "from lightgbm import LGBMRegressor"
   ]
  },
  {
   "cell_type": "code",
   "execution_count": 951,
   "id": "931d6fd0-c571-4740-902b-944c04377953",
   "metadata": {},
   "outputs": [
    {
     "data": {
      "text/plain": [
       "LGBMRegressor()"
      ]
     },
     "execution_count": 951,
     "metadata": {},
     "output_type": "execute_result"
    }
   ],
   "source": [
    "lightgbm_model = LGBMRegressor()\n",
    "lightgbm_model.fit(xtrain, ytrain)"
   ]
  },
  {
   "cell_type": "code",
   "execution_count": 959,
   "id": "ba614919-31fe-4291-a9a5-a235abfdb7ee",
   "metadata": {},
   "outputs": [
    {
     "name": "stderr",
     "output_type": "stream",
     "text": [
      "/Users/kdang/anaconda3/envs/kaggle/lib/python3.7/site-packages/pandas/core/strings/accessor.py:101: UserWarning: This pattern has match groups. To actually get the groups, use str.extract.\n",
      "  return func(self, *args, **kwargs)\n",
      "/Users/kdang/anaconda3/envs/kaggle/lib/python3.7/site-packages/ipykernel_launcher.py:106: FutureWarning: The default value of regex will change from True to False in a future version.\n"
     ]
    },
    {
     "name": "stdout",
     "output_type": "stream",
     "text": [
      "-- unique values ['Jan', 'Feb', 'Mar', 'Apr', 'May', 'Jun', 'Jul', 'Aug', 'Sep', 'Oct', 'Nov', 'Dec']\n",
      "-- unique values [1, 2, 3, 4, 5, 6, 7, 8, 9, 10, 11, 12, 13, 14, 15, 16, 17, 18, 19, 20, 21, 22, 23, 24, 25, 26, 27, 28, 29, 30, 31]\n",
      "-- unique values ['Paperback', 'Hardcover', 'Mass Market Paperback', 'Sheet music', 'Flexibound', 'Plastic Comb', 'Loose Leaf', 'Tankobon Softcover', 'Perfect Paperback', 'Board book', 'Cards', 'Spiral-bound', 'Product Bundle', 'Library Binding', 'Leather Bound']\n"
     ]
    },
    {
     "data": {
      "image/png": "[encoded data removed]",
      "text/plain": [
       "<Figure size 432x288 with 1 Axes>"
      ]
     },
     "metadata": {
      "needs_background": "light"
     },
     "output_type": "display_data"
    }
   ],
   "source": [
    "df_test = pd.read_excel('Participants_Data/Data_Test.xlsx')\n",
    "df_test_processed = process_df(df_test, is_test=True)\n",
    "price = lightgbm_model.predict(df_test_processed)\n",
    "price = math.e**price\n",
    "df_test['Price'] = price\n",
    "df_test.to_excel('test_submission.xlsx')"
   ]
  },
  {
   "cell_type": "code",
   "execution_count": null,
   "id": "b2297a5e-c1af-463f-a081-ab1b93ec8331",
   "metadata": {},
   "outputs": [],
   "source": []
  }
 ],
 "metadata": {
  "kernelspec": {
   "display_name": "Python 3",
   "language": "python",
   "name": "python3"
  },
  "language_info": {
   "codemirror_mode": {
    "name": "ipython",
    "version": 3
   },
   "file_extension": ".py",
   "mimetype": "text/x-python",
   "name": "python",
   "nbconvert_exporter": "python",
   "pygments_lexer": "ipython3",
   "version": "3.7.6"
  }
 },
 "nbformat": 4,
 "nbformat_minor": 5
}
