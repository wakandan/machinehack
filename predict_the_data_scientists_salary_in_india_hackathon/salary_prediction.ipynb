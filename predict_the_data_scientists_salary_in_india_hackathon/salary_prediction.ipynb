{
 "cells": [
  {
   "cell_type": "code",
   "execution_count": 93,
   "id": "203ebe41-9359-4ab7-9cd1-ee4098358492",
   "metadata": {},
   "outputs": [
    {
     "name": "stdout",
     "output_type": "stream",
     "text": [
      "The lab_black extension is already loaded. To reload it, use:\n",
      "  %reload_ext lab_black\n"
     ]
    }
   ],
   "source": [
    "%load_ext lab_black\n",
    "\n",
    "import pandas as pd\n",
    "import seaborn as sns\n",
    "import matplotlib.pyplot as plt\n",
    "import random\n",
    "import numpy as np\n",
    "import re\n",
    "import math\n",
    "import tensorflow as tf\n",
    "import sklearn\n",
    "from sklearn.feature_extraction.text import TfidfTransformer\n",
    "from nltk.corpus import stopwords\n",
    "from nltk.stem import WordNetLemmatizer\n",
    "from nltk import ngrams\n",
    "from textblob import Word\n",
    "from gensim.models import Word2Vec\n",
    "from gensim.scripts.glove2word2vec import glove2word2vec\n",
    "from gensim.models import KeyedVectors\n",
    "from sklearn.preprocessing import MinMaxScaler\n",
    "from sklearn.model_selection import (\n",
    "    train_test_split,\n",
    "    RepeatedStratifiedKFold,\n",
    "    StratifiedKFold,\n",
    ")\n",
    "from sklearn.neural_network import MLPClassifier, MLPRegressor\n",
    "from livelossplot import PlotLossesKeras\n",
    "from keras.models import Sequential\n",
    "from keras.layers import Dense\n",
    "from keras.wrappers.scikit_learn import KerasRegressor\n",
    "from sklearn.model_selection import cross_validate, KFold\n",
    "from sklearn.metrics import make_scorer, accuracy_score, confusion_matrix\n",
    "from sklearn.pipeline import Pipeline, FeatureUnion\n",
    "from sklearn.preprocessing import (\n",
    "    StandardScaler,\n",
    "    OneHotEncoder,\n",
    "    MinMaxScaler,\n",
    "    OrdinalEncoder,\n",
    ")\n",
    "from sklearn.compose import ColumnTransformer\n",
    "from sklearn.linear_model import LinearRegression, Ridge, SGDClassifier\n",
    "from sklearn.preprocessing import FunctionTransformer\n",
    "from sklearn.ensemble import (\n",
    "    RandomForestRegressor,\n",
    "    RandomForestClassifier,\n",
    "    AdaBoostClassifier,\n",
    "    AdaBoostRegressor,\n",
    "    GradientBoostingRegressor,\n",
    "    VotingRegressor,\n",
    "    VotingClassifier,\n",
    "    StackingRegressor,\n",
    "    StackingClassifier,\n",
    "    ExtraTreesRegressor,\n",
    "    ExtraTreesClassifier,\n",
    ")\n",
    "from sklearn.feature_extraction.text import (\n",
    "    CountVectorizer,\n",
    "    TfidfVectorizer,\n",
    "    HashingVectorizer,\n",
    ")\n",
    "from lightgbm import LGBMRegressor, LGBMClassifier\n",
    "import scipy\n",
    "from xgboost import XGBRegressor, XGBClassifier\n",
    "from pprint import pprint\n",
    "from datetime import datetime\n",
    "from sklearn.model_selection import RandomizedSearchCV\n",
    "from sklearn.base import BaseEstimator, TransformerMixin, RegressorMixin, clone\n",
    "from sklearn.linear_model import ElasticNet, Lasso, BayesianRidge, LassoLarsIC\n",
    "from sklearn.ensemble import (\n",
    "    RandomForestRegressor,\n",
    "    GradientBoostingRegressor,\n",
    "    RandomForestClassifier,\n",
    "    GradientBoostingClassifier,\n",
    ")\n",
    "from sklearn.kernel_ridge import KernelRidge\n",
    "from joblib import Parallel, delayed\n",
    "from tune_sklearn import TuneGridSearchCV\n",
    "import warnings\n",
    "from catboost import CatBoostRegressor, CatBoostClassifier\n",
    "import random\n",
    "import pycountry\n",
    "import wordcloud\n",
    "from nltk import pos_tag, word_tokenize\n",
    "from sklearn.pipeline import make_pipeline\n",
    "\n",
    "sns.set_palette(\"Blues\")\n",
    "\n",
    "PANDAS_DEFAULT_MAX_ROWS_OPTIONS = pd.get_option(\"display.max_rows\")"
   ]
  },
  {
   "cell_type": "code",
   "execution_count": 3,
   "id": "885168d0-4493-4761-a167-cfcf02669d23",
   "metadata": {},
   "outputs": [
    {
     "name": "stderr",
     "output_type": "stream",
     "text": [
      "/Users/kdang/anaconda3/envs/kaggle/lib/python3.7/site-packages/ipykernel_launcher.py:62: FutureWarning: The default value of regex will change from True to False in a future version.\n",
      "/Users/kdang/anaconda3/envs/kaggle/lib/python3.7/site-packages/ipykernel_launcher.py:112: FutureWarning: The default value of regex will change from True to False in a future version.\n"
     ]
    }
   ],
   "source": [
    "def lemmatize(content):\n",
    "    sent = []\n",
    "    for word, tag in pos_tag(word_tokenize(content.lower())):\n",
    "        wntag = tag[0].lower()\n",
    "        wntag = wntag if wntag in [\"a\", \"r\", \"n\", \"v\"] else None\n",
    "        if not wntag:\n",
    "            lemma = word\n",
    "        else:\n",
    "            lemma = lematizer.lemmatize(word, wntag)\n",
    "        sent.append(lemma)\n",
    "    return \" \".join(sent)\n",
    "\n",
    "\n",
    "train = pd.read_csv(\"Final_Train_Dataset.csv\")\n",
    "test = pd.read_csv(\"Final_Test_Dataset.csv\")\n",
    "lematizer = WordNetLemmatizer()\n",
    "train[\"istrain\"] = 1\n",
    "train.rename(columns={\"Unnamed: 0\": \"indexing\"}, inplace=True)\n",
    "test[\"istrain\"] = 0\n",
    "# train.drop([\"Unnamed: 0\"], axis=1, inplace=True)\n",
    "# train[\"duplicate_keys\"] = (\n",
    "#     train[\"job_description\"]\n",
    "#     + \" \"\n",
    "#     + train.job_desig\n",
    "#     + \" \"\n",
    "#     + train.key_skills\n",
    "#     + \" \"\n",
    "#     + train.location\n",
    "# )\n",
    "# train[\"duplicate_keys\"] = train.duplicate_keys.str.lower()\n",
    "# print(\"train\", len(train))\n",
    "# train.drop_duplicates(inplace=True, subset=\"duplicate_keys\")\n",
    "# print(\"train after\", len(train))\n",
    "# train.drop(\"duplicate_keys\", inplace=True, axis=1)\n",
    "traintest = pd.concat([train, test], axis=0).reset_index()\n",
    "\n",
    "stop = stopwords.words(\"english\")\n",
    "traintest[\"experience_min\"] = traintest.experience.str.extract(\"^(\\d+)-\").astype(\n",
    "    np.float32\n",
    ")\n",
    "traintest[\"experience_max\"] = traintest.experience.str.extract(\".*-(\\d+).*\").astype(\n",
    "    np.float32\n",
    ")\n",
    "traintest[\"is_jobtype_exists\"] = traintest.job_type.notnull().astype(int)\n",
    "traintest.drop(\"job_type\", axis=1, inplace=True)\n",
    "traintest[\"num_locations\"] = traintest.location.apply(\n",
    "    lambda x: max(len(x.split(\",\")), len(x.split(\"|\")), len(x.split(\"/\")))\n",
    ")\n",
    "traintest[\"num_positions\"] = traintest.job_desig.apply(\n",
    "    lambda x: max(len(x.split(\",\")), len(x.split(\"|\")), len(x.split(\"/\")))\n",
    ")\n",
    "traintest[\"has_special_location\"] = traintest.location.str.contains(\"\\(\").astype(int)\n",
    "traintest[\"is_desc_exists\"] = (traintest.job_description.notnull()).astype(int)\n",
    "# create a new column for all text fields, fillna for other columns\n",
    "for col in [\"key_skills\", \"job_desig\", \"job_description\"]:\n",
    "    traintest[col] = traintest[col].fillna(\"\")\n",
    "traintest[\"job_info\"] = traintest[[\"job_desig\", \"job_description\", \"key_skills\"]].agg(\n",
    "    \" \".join, axis=1\n",
    ")\n",
    "for col in [\"key_skills\", \"job_desig\", \"job_description\", \"job_info\"]:\n",
    "    traintest[col] = traintest[col].str.lower()\n",
    "    traintest[col] = traintest[col].str.replace(\"[^\\w ]\", \" \").fillna(\"\")\n",
    "    #     traintest[col] = traintest[col].str.replace(\" sr \", \" senior\")\n",
    "    traintest[col] = traintest[col].apply(\n",
    "        lambda x: \" \".join(i for i in x.split() if i not in stop)\n",
    "    )\n",
    "    traintest[col] = traintest[col].apply(lemmatize)\n",
    "\n",
    "\n",
    "traintest[\"company\"] = traintest[\"company_name_encoded\"].astype(str)\n",
    "traintest[\"company_size\"] = traintest.company  # estimate how big a company is\n",
    "traintest[\"company_size\"] = traintest.company_size.map(\n",
    "    traintest.company_size.value_counts()\n",
    ")\n",
    "traintest[\"is_senior\"] = (traintest.experience_min >= 5).astype(int)\n",
    "\n",
    "traintest[\"is_senior_position\"] = traintest.job_info.apply(\n",
    "    lambda x: any(\n",
    "        [\n",
    "            i\n",
    "            for i in x.split()\n",
    "            if i\n",
    "            in [\n",
    "                \"senior\",\n",
    "                \"head\",\n",
    "                \"manage\",\n",
    "                \"lead\",\n",
    "                \"vp\",\n",
    "                \"director\",\n",
    "                \"deputy\",\n",
    "                \"leadership\",\n",
    "                \"president\",\n",
    "                \"chief\",\n",
    "                \"sr\",\n",
    "            ]\n",
    "        ]\n",
    "    )\n",
    ").astype(int)\n",
    "\n",
    "\n",
    "traintest[\"exp_range\"] = (traintest.experience_max - traintest.experience_min).astype(\n",
    "    int\n",
    ")\n",
    "traintest[\"desc_len\"] = traintest.job_info.apply(lambda x: len(x))\n",
    "traintest[\"skill_len\"] = traintest.key_skills.apply(lambda x: len(x))\n",
    "traintest[\"salary_num\"] = traintest.salary.replace(\n",
    "    [\"0to3\", \"3to6\", \"6to10\", \"10to15\", \"15to25\", \"25to50\"], [1, 2, 3, 4, 5, 6]\n",
    ")\n",
    "traintest[\"num_locations\"] = traintest.location.apply(lambda x: len(x.split(\",\")))\n",
    "\n",
    "traintest[\"location_simple\"] = traintest.location.str.lower()\n",
    "traintest[\"location_simple\"] = traintest.location_simple.str.replace(\"[^\\w ]+\", \" \")\n",
    "all_locations = \" \".join(traintest.location_simple).split()\n",
    "location_freq = {k: all_locations.count(k) for k in set(all_locations)}\n",
    "traintest[\"location_popularity\"] = traintest.location_simple.apply(\n",
    "    lambda x: max(location_freq.get(i.strip(), 0) for i in x.split())\n",
    ")\n",
    "traintest[\"is_junior\"] = traintest.job_info.apply(\n",
    "    lambda x: any(\n",
    "        i\n",
    "        for i in [\n",
    "            \"entry\",\n",
    "            \"part time\",\n",
    "            \"fresh\",\n",
    "            \"graduate\",\n",
    "            \"intern\",\n",
    "            \"student\",\n",
    "            \"outsourc\",\n",
    "            \"offic\",\n",
    "        ]\n",
    "        if i in x\n",
    "    )\n",
    ").astype(int)\n",
    "\n",
    "\n",
    "all_countries = list(c.name.lower() for c in list(pycountry.countries)) + [\n",
    "    \"uae\",\n",
    "    \"u.k\",\n",
    "    \"anywhere\",\n",
    "    \"other\",\n",
    "    \"anywhere\",\n",
    "    \"dallas\",\n",
    "    \"japan\",\n",
    "    \"yangon\",\n",
    "    \"california\",\n",
    "    \"angeles\",\n",
    "    \"kuwait\",\n",
    "    \"united\",\n",
    "    \"dubai\",\n",
    "    \"york\",\n",
    "    \"kingdom\",\n",
    "    \"kong\",\n",
    "    \"uk\",\n",
    "    \"africa\",\n",
    "]\n",
    "traintest[\"is_abroad\"] = traintest.location_simple.apply(\n",
    "    lambda x: any(i for i in x.split() if i in all_countries)\n",
    ").astype(int)"
   ]
  },
  {
   "cell_type": "code",
   "execution_count": 181,
   "id": "1050c2d5-e90d-4541-9c9b-71997e3190b7",
   "metadata": {},
   "outputs": [
    {
     "data": {
      "text/plain": [
       "64    1686\n",
       "66    1512\n",
       "62    1464\n",
       "65    1456\n",
       "63    1440\n",
       "      ... \n",
       "73       8\n",
       "6        8\n",
       "5        4\n",
       "2        3\n",
       "4        1\n",
       "Name: key_skills, Length: 73, dtype: int64"
      ]
     },
     "execution_count": 181,
     "metadata": {},
     "output_type": "execute_result"
    }
   ],
   "source": [
    "traintest.key_skills.str.len().value_counts()"
   ]
  },
  {
   "cell_type": "code",
   "execution_count": 4,
   "id": "fff96667-8b9e-4f3e-8ce0-df5a507f4438",
   "metadata": {},
   "outputs": [],
   "source": [
    "from collections import defaultdict\n",
    "\n",
    "traintest[\"num_repeating_job_desc\"] = 0\n",
    "traintest[\"num_repeating_job_desc_desig\"] = 0\n",
    "traintest[\"num_repeating_job_desc_desig_skills\"] = 0\n",
    "job_desc_repeating = defaultdict(int)\n",
    "job_desc_desig_repeating = defaultdict(int)\n",
    "job_desc_desig_skills_repeating = defaultdict(int)\n",
    "for i, row in traintest.iterrows():\n",
    "    key = \" \".join([row[\"job_description\"], str(row[\"company_name_encoded\"])])\n",
    "\n",
    "    traintest.at[i, \"num_repeating_job_desc\"] = job_desc_repeating[key]\n",
    "    job_desc_repeating[key] += 1\n",
    "\n",
    "    key = \" \".join(\n",
    "        [row[\"job_description\"], row[\"job_desig\"], str(row[\"company_name_encoded\"])]\n",
    "    )\n",
    "    traintest.at[i, \"num_repeating_job_desc_desig\"] = job_desc_desig_repeating[key]\n",
    "    job_desc_desig_repeating[key] += 1\n",
    "\n",
    "    key = \" \".join(\n",
    "        [\n",
    "            row[\"job_description\"],\n",
    "            row[\"job_desig\"],\n",
    "            row[\"key_skills\"],\n",
    "            str(row[\"company_name_encoded\"]),\n",
    "        ]\n",
    "    )\n",
    "    traintest.at[\n",
    "        i, \"num_repeating_job_desc_desig_skills\"\n",
    "    ] = job_desc_desig_skills_repeating[key]\n",
    "    job_desc_desig_skills_repeating[key] += 1"
   ]
  },
  {
   "cell_type": "code",
   "execution_count": 5,
   "id": "514a6856-e5a0-4e56-912b-bd950aeaceae",
   "metadata": {},
   "outputs": [
    {
     "data": {
      "text/plain": [
       "<AxesSubplot:>"
      ]
     },
     "execution_count": 5,
     "metadata": {},
     "output_type": "execute_result"
    },
    {
     "data": {
      "image/png": "[encoded data removed]",
      "text/plain": [
       "<Figure size 1440x720 with 2 Axes>"
      ]
     },
     "metadata": {
      "needs_background": "light"
     },
     "output_type": "display_data"
    }
   ],
   "source": [
    "plt.figure(figsize=(20, 10))\n",
    "sns.heatmap(traintest.corr(), cmap=\"Blues\")"
   ]
  },
  {
   "cell_type": "code",
   "execution_count": 8,
   "id": "6ea0b7cf-7529-45b9-8c6a-b6a352c8875d",
   "metadata": {},
   "outputs": [
    {
     "name": "stdout",
     "output_type": "stream",
     "text": [
      "9931 9871\n",
      "9931 9871\n",
      "9931 9871\n",
      "9931 9871\n",
      "9931 9871\n"
     ]
    }
   ],
   "source": [
    "import random\n",
    "\n",
    "\n",
    "def split_train_test(traintest, test_ratio=0.2, upsample=False):\n",
    "    val_indexes = []\n",
    "    for test_company in test.company_name_encoded.unique():\n",
    "        indexes = list(\n",
    "            traintest[\n",
    "                (traintest.company_name_encoded == test_company)\n",
    "                & (traintest.istrain == 1)\n",
    "            ].index\n",
    "        )\n",
    "        #         len_test_indexes = len(test[test.company_name_encoded == test_company])\n",
    "        if len(indexes) == 1:\n",
    "            val_indexes += indexes\n",
    "        else:\n",
    "            num_to_choose = max(1, int(len(indexes) * test_ratio))\n",
    "            val_indexes += random.sample(indexes, num_to_choose)\n",
    "    val_indexes = set(val_indexes)\n",
    "    train_indexes = list(\n",
    "        set(traintest[traintest.istrain == 1].index).difference(set(val_indexes))\n",
    "    )\n",
    "\n",
    "    if upsample:\n",
    "        value_counts = dict(traintest.iloc[train_indexes].salary.value_counts())\n",
    "        most_class_count = max(value_counts.values())\n",
    "        new_train_indexes = []\n",
    "        for c, count in value_counts.items():\n",
    "            c_index = list(\n",
    "                traintest.iloc[train_indexes][\n",
    "                    traintest.iloc[train_indexes].salary == c\n",
    "                ].index\n",
    "            )\n",
    "            if upsample and count < most_class_count:\n",
    "                while len(c_index) < most_class_count:\n",
    "                    c_index *= 2\n",
    "                c_index = c_index[:most_class_count]\n",
    "            new_train_indexes += c_index\n",
    "        return list(new_train_indexes), list(val_indexes)\n",
    "    else:\n",
    "        return list(train_indexes), list(val_indexes)\n",
    "\n",
    "\n",
    "trainval_splits = []\n",
    "for i in range(5):\n",
    "    itrain, ival = split_train_test(traintest, test_ratio=0.99, upsample=False)\n",
    "    print(len(itrain), len(ival))\n",
    "    trainval_splits.append((itrain, ival))"
   ]
  },
  {
   "cell_type": "code",
   "execution_count": 63,
   "id": "b96a3990-816f-4cf1-a5a7-f610a5c8d431",
   "metadata": {},
   "outputs": [
    {
     "data": {
      "text/plain": [
       "(19802, 6601)"
      ]
     },
     "execution_count": 63,
     "metadata": {},
     "output_type": "execute_result"
    }
   ],
   "source": [
    "len(train), len(test)"
   ]
  },
  {
   "cell_type": "code",
   "execution_count": 90,
   "id": "8fe95922-e818-4360-bdcc-ef8d424f2648",
   "metadata": {},
   "outputs": [],
   "source": [
    "def index_split(test_size=4000, train_size=3802):\n",
    "    num_folds = 4\n",
    "    indexes = []\n",
    "    offset = 0\n",
    "    for i in range(num_folds):\n",
    "        indexes.append(\n",
    "            (\n",
    "                range(offset, offset + train_size),\n",
    "                range(offset + train_size, offset + train_size + test_size),\n",
    "            )\n",
    "        )\n",
    "        offset += test_size\n",
    "    return indexes\n",
    "\n",
    "\n",
    "trainval_splits = index_split()"
   ]
  },
  {
   "cell_type": "code",
   "execution_count": 91,
   "id": "6280b81b-fa1f-44df-98f5-79a550c4e86b",
   "metadata": {},
   "outputs": [
    {
     "data": {
      "text/plain": [
       "[(range(0, 3802), range(3802, 7802)),\n",
       " (range(4000, 7802), range(7802, 11802)),\n",
       " (range(8000, 11802), range(11802, 15802)),\n",
       " (range(12000, 15802), range(15802, 19802))]"
      ]
     },
     "execution_count": 91,
     "metadata": {},
     "output_type": "execute_result"
    }
   ],
   "source": [
    "trainval_splits"
   ]
  },
  {
   "cell_type": "code",
   "execution_count": 73,
   "id": "046ca037-ebb7-4924-9d0b-54130e294d7d",
   "metadata": {},
   "outputs": [],
   "source": [
    "tree_processor = ColumnTransformer(\n",
    "    transformers=[\n",
    "        (\n",
    "            \"passthough\",\n",
    "            FunctionTransformer(lambda x: x),\n",
    "            [\n",
    "                \"experience_min\",\n",
    "                \"experience_max\",\n",
    "                \"is_jobtype_exists\",\n",
    "                \"exp_range\",\n",
    "                \"is_senior\",\n",
    "                \"is_junior\",\n",
    "                \"desc_len\",\n",
    "                \"is_desc_exists\",\n",
    "                \"is_senior_position\",\n",
    "                \"num_locations\",\n",
    "                \"num_positions\",\n",
    "                \"has_special_location\",\n",
    "                \"company_size\",\n",
    "                \"location_popularity\",\n",
    "                \"company_name_encoded\",\n",
    "                \"num_repeating_job_desc\",\n",
    "                \"num_repeating_job_desc_desig\",\n",
    "                \"num_repeating_job_desc_desig_skills\",\n",
    "            ],\n",
    "        ),\n",
    "    ]\n",
    ")\n",
    "\n",
    "tree_pipe = Pipeline(\n",
    "    [\n",
    "        (\n",
    "            \"union\",\n",
    "            FeatureUnion(\n",
    "                [\n",
    "                    (\"numeric\", tree_processor),\n",
    "                    (\n",
    "                        \"job_desig\",\n",
    "                        Pipeline(\n",
    "                            [\n",
    "                                (\n",
    "                                    \"selector\",\n",
    "                                    FunctionTransformer(lambda x: x[\"job_desig\"]),\n",
    "                                ),\n",
    "                                (\n",
    "                                    \"vectorizer\",\n",
    "                                    CountVectorizer(\n",
    "                                        stop_words=stop, ngram_range=(1, 2)\n",
    "                                    ),\n",
    "                                ),\n",
    "                            ]\n",
    "                        ),\n",
    "                    ),\n",
    "                ],\n",
    "            ),\n",
    "        )\n",
    "    ],\n",
    ")"
   ]
  },
  {
   "cell_type": "code",
   "execution_count": 40,
   "id": "1a4902c7-3c42-4ccf-b875-da46ea894fa1",
   "metadata": {},
   "outputs": [],
   "source": [
    "from sklearn.metrics import accuracy_score\n",
    "\n",
    "\n",
    "def submit(m):\n",
    "    salary = m.predict(traintestp[len(traintest[traintest.istrain == 1]) :])\n",
    "    test[\"salary\"] = salary\n",
    "    test.to_excel(\"submission.xlsx\")\n",
    "\n",
    "\n",
    "def fit(m):\n",
    "    m.fit(traintestp[: len(traintest[traintest.istrain == 1])], train.salary)\n",
    "    return m"
   ]
  },
  {
   "cell_type": "code",
   "execution_count": 74,
   "id": "b8e42493-2299-458f-bfcf-48f1127166f1",
   "metadata": {},
   "outputs": [],
   "source": [
    "mlp_processor = ColumnTransformer(\n",
    "    transformers=[\n",
    "        (\n",
    "            \"passthrough\",\n",
    "            FunctionTransformer(lambda x: x),\n",
    "            [\n",
    "                \"is_jobtype_exists\",\n",
    "                \"is_senior\",\n",
    "                \"is_junior\",\n",
    "                \"is_desc_exists\",\n",
    "                \"is_senior_position\",\n",
    "                \"has_special_location\",\n",
    "            ],\n",
    "        ),\n",
    "        (\n",
    "            \"standard scaler\",\n",
    "            StandardScaler(),\n",
    "            [\n",
    "                \"experience_min\",\n",
    "                \"experience_max\",\n",
    "                \"exp_range\",\n",
    "                \"desc_len\",\n",
    "                \"num_locations\",\n",
    "                \"num_positions\",\n",
    "                \"company_size\",\n",
    "                \"location_popularity\",\n",
    "                \"num_repeating_job_desc\",\n",
    "                \"num_repeating_job_desc_desig\",\n",
    "                \"num_repeating_job_desc_desig_skills\",\n",
    "            ],\n",
    "        ),\n",
    "    ]\n",
    ")\n",
    "mlp_pipe = Pipeline(\n",
    "    [\n",
    "        (\n",
    "            \"union\",\n",
    "            FeatureUnion(\n",
    "                [\n",
    "                    (\"numeric\", mlp_processor),\n",
    "                    (\n",
    "                        \"job_desig\",\n",
    "                        Pipeline(\n",
    "                            [\n",
    "                                (\n",
    "                                    \"selector\",\n",
    "                                    FunctionTransformer(lambda x: x[\"job_desig\"]),\n",
    "                                ),\n",
    "                                (\n",
    "                                    \"vectorizer\",\n",
    "                                    CountVectorizer(\n",
    "                                        stop_words=stop, ngram_range=(1, 2)\n",
    "                                    ),\n",
    "                                ),\n",
    "                            ]\n",
    "                        ),\n",
    "                    ),\n",
    "                    (\n",
    "                        \"key_skills\",\n",
    "                        Pipeline(\n",
    "                            [\n",
    "                                (\n",
    "                                    \"selector\",\n",
    "                                    FunctionTransformer(lambda x: x[\"key_skills\"]),\n",
    "                                ),\n",
    "                                (\n",
    "                                    \"vectorizer\",\n",
    "                                    TfidfVectorizer(\n",
    "                                        stop_words=stop, ngram_range=(1, 2)\n",
    "                                    ),\n",
    "                                ),\n",
    "                            ]\n",
    "                        ),\n",
    "                    ),\n",
    "                ],\n",
    "            ),\n",
    "        )\n",
    "    ],\n",
    ")"
   ]
  },
  {
   "cell_type": "code",
   "execution_count": 76,
   "id": "69b1e167-e0fa-4246-a2dd-95f5de724233",
   "metadata": {},
   "outputs": [
    {
     "name": "stdout",
     "output_type": "stream",
     "text": [
      "0.4008333333333333 [0.397, 0.4033333333333333, 0.38566666666666666, 0.41733333333333333] taken =  0:00:06.757737\n"
     ]
    }
   ],
   "source": [
    "adaboost_clf = AdaBoostClassifier()\n",
    "cv_2(make_pipeline(mlp_pipe, adaboost_clf))"
   ]
  },
  {
   "cell_type": "code",
   "execution_count": 92,
   "id": "2d69f446-cb84-4dea-b204-e606db01bd16",
   "metadata": {},
   "outputs": [
    {
     "name": "stdout",
     "output_type": "stream",
     "text": [
      "0.44962500000000005 [0.449, 0.448, 0.441, 0.4605] taken =  0:00:04.638643\n"
     ]
    }
   ],
   "source": [
    "cv_2(make_pipeline(tree_pipe, LGBMClassifier()))"
   ]
  },
  {
   "cell_type": "code",
   "execution_count": 55,
   "id": "fd53a987-6e7f-4ade-ad53-fa321e55afb6",
   "metadata": {},
   "outputs": [
    {
     "name": "stdout",
     "output_type": "stream",
     "text": [
      "0.4226724749265525 [0.42356397528112655, 0.42244959983790903, 0.4232600547057036, 0.4245770438658697, 0.4195117009421538] taken =  0:02:55.139857\n"
     ]
    }
   ],
   "source": [
    "from sklearn.svm import SVC\n",
    "\n",
    "cv_2(make_pipeline(mlp_pipe, SVC()))"
   ]
  },
  {
   "cell_type": "code",
   "execution_count": null,
   "id": "5d24f9e9-f0fa-4f60-b6b9-07c0bd1e4af1",
   "metadata": {},
   "outputs": [],
   "source": [
    "mlp_pipeline = make_pipeline(mlp_pipe, AdaBoostClassifier(random_state=42))\n",
    "cv(traintest[traintest.istrain==1], mlp_pipeline)"
   ]
  },
  {
   "cell_type": "code",
   "execution_count": 35,
   "id": "72464f0f-212a-401e-948d-03a24f9fc193",
   "metadata": {},
   "outputs": [
    {
     "name": "stdout",
     "output_type": "stream",
     "text": [
      "[FeatureUnion] ....... (step 1 of 2) Processing numeric, total=   0.0s\n",
      "[FeatureUnion] ..... (step 2 of 2) Processing job_desig, total=   0.1s\n",
      "[Pipeline] ............. (step 1 of 1) Processing union, total=   0.1s\n",
      "[FeatureUnion] ....... (step 1 of 2) Processing numeric, total=   0.0s\n",
      "[FeatureUnion] ..... (step 2 of 2) Processing job_desig, total=   0.1s\n",
      "[Pipeline] ............. (step 1 of 1) Processing union, total=   0.1s\n",
      "[FeatureUnion] ....... (step 1 of 2) Processing numeric, total=   0.0s\n",
      "[FeatureUnion] ..... (step 2 of 2) Processing job_desig, total=   0.1s\n",
      "[Pipeline] ............. (step 1 of 1) Processing union, total=   0.1s\n",
      "[FeatureUnion] ....... (step 1 of 2) Processing numeric, total=   0.0s\n",
      "[FeatureUnion] ..... (step 2 of 2) Processing job_desig, total=   0.1s\n",
      "[Pipeline] ............. (step 1 of 1) Processing union, total=   0.1s\n",
      "[FeatureUnion] ....... (step 1 of 2) Processing numeric, total=   0.0s\n",
      "[FeatureUnion] ..... (step 2 of 2) Processing job_desig, total=   0.1s\n",
      "[Pipeline] ............. (step 1 of 1) Processing union, total=   0.1s\n",
      "0.4068686050045588 [0.4055313544726978, 0.40532874075574915, 0.40634180934049235, 0.4055313544726978, 0.41160976598115695] taken =  0:00:05.832880\n"
     ]
    }
   ],
   "source": [
    "cv_2(mlp_pipeline)"
   ]
  },
  {
   "cell_type": "code",
   "execution_count": 98,
   "id": "8eba0de7-d917-4d7c-a0c7-17e07f21eddb",
   "metadata": {},
   "outputs": [
    {
     "data": {
      "text/plain": [
       "{'fit_time': array([2.53734398, 2.53471065, 2.54470921, 2.5699141 , 2.55085278]),\n",
       " 'score_time': array([0.50441074, 0.51112223, 0.51427317, 0.51211286, 0.51021004]),\n",
       " 'test_score': array([0.4609947 , 0.47235547, 0.47828283, 0.46944444, 0.48484848])}"
      ]
     },
     "execution_count": 98,
     "metadata": {},
     "output_type": "execute_result"
    }
   ],
   "source": [
    "tree_pipeline = make_pipeline(tree_pipe, LGBMClassifier(random_state=42))\n",
    "\n",
    "\n",
    "def cv_2(model, n_jobs=-1):\n",
    "    ts = datetime.now()\n",
    "    results = []\n",
    "    for itrain, itest in trainval_splits:\n",
    "        print(itrain, itest)\n",
    "        m = clone(model)\n",
    "        m.fit(traintest[traintest.istrain == 1].iloc[itrain], train.salary.iloc[itrain])\n",
    "        ypred = m.predict(traintest[traintest.istrain == 1].iloc[itest])\n",
    "        score = accuracy_score(train.salary.iloc[itest], ypred)\n",
    "        cm = confusion_matrix(\n",
    "            train.salary.iloc[itest],\n",
    "            ypred,\n",
    "            labels=[\"0to3\", \"3to6\", \"6to10\", \"10to15\", \"15to25\", \"25to50\"],\n",
    "        )\n",
    "        #         print(cm)\n",
    "        results.append(score)\n",
    "    print(np.mean(results), results, f\"taken = \", datetime.now() - ts)\n",
    "\n",
    "\n",
    "cross_validate(\n",
    "    tree_pipeline,\n",
    "    traintest[traintest.istrain == 1],\n",
    "    train.salary,\n",
    "    scoring=\"accuracy\",\n",
    "    n_jobs=-1,\n",
    ")\n",
    "# cv_2(tree_pipeline)"
   ]
  },
  {
   "cell_type": "code",
   "execution_count": 96,
   "id": "a2c9faf3-6a39-4eb9-afb8-2ca1fca463e2",
   "metadata": {},
   "outputs": [
    {
     "name": "stderr",
     "output_type": "stream",
     "text": [
      "/Users/kdang/anaconda3/envs/kaggle/lib/python3.7/site-packages/sklearn/linear_model/_logistic.py:765: ConvergenceWarning: lbfgs failed to converge (status=1):\n",
      "STOP: TOTAL NO. of ITERATIONS REACHED LIMIT.\n",
      "\n",
      "Increase the number of iterations (max_iter) or scale the data as shown in:\n",
      "    https://scikit-learn.org/stable/modules/preprocessing.html\n",
      "Please also refer to the documentation for alternative solver options:\n",
      "    https://scikit-learn.org/stable/modules/linear_model.html#logistic-regression\n",
      "  extra_warning_msg=_LOGISTIC_SOLVER_CONVERGENCE_MSG)\n",
      "/Users/kdang/anaconda3/envs/kaggle/lib/python3.7/site-packages/sklearn/linear_model/_logistic.py:765: ConvergenceWarning: lbfgs failed to converge (status=1):\n",
      "STOP: TOTAL NO. of ITERATIONS REACHED LIMIT.\n",
      "\n",
      "Increase the number of iterations (max_iter) or scale the data as shown in:\n",
      "    https://scikit-learn.org/stable/modules/preprocessing.html\n",
      "Please also refer to the documentation for alternative solver options:\n",
      "    https://scikit-learn.org/stable/modules/linear_model.html#logistic-regression\n",
      "  extra_warning_msg=_LOGISTIC_SOLVER_CONVERGENCE_MSG)\n",
      "/Users/kdang/anaconda3/envs/kaggle/lib/python3.7/site-packages/sklearn/linear_model/_logistic.py:765: ConvergenceWarning: lbfgs failed to converge (status=1):\n",
      "STOP: TOTAL NO. of ITERATIONS REACHED LIMIT.\n",
      "\n",
      "Increase the number of iterations (max_iter) or scale the data as shown in:\n",
      "    https://scikit-learn.org/stable/modules/preprocessing.html\n",
      "Please also refer to the documentation for alternative solver options:\n",
      "    https://scikit-learn.org/stable/modules/linear_model.html#logistic-regression\n",
      "  extra_warning_msg=_LOGISTIC_SOLVER_CONVERGENCE_MSG)\n",
      "/Users/kdang/anaconda3/envs/kaggle/lib/python3.7/site-packages/sklearn/linear_model/_logistic.py:765: ConvergenceWarning: lbfgs failed to converge (status=1):\n",
      "STOP: TOTAL NO. of ITERATIONS REACHED LIMIT.\n",
      "\n",
      "Increase the number of iterations (max_iter) or scale the data as shown in:\n",
      "    https://scikit-learn.org/stable/modules/preprocessing.html\n",
      "Please also refer to the documentation for alternative solver options:\n",
      "    https://scikit-learn.org/stable/modules/linear_model.html#logistic-regression\n",
      "  extra_warning_msg=_LOGISTIC_SOLVER_CONVERGENCE_MSG)\n"
     ]
    },
    {
     "name": "stdout",
     "output_type": "stream",
     "text": [
      "0.467625 [0.46525, 0.4675, 0.4595, 0.47825] taken =  0:01:51.576327\n"
     ]
    }
   ],
   "source": [
    "stacking_clf = StackingClassifier(\n",
    "    estimators=[\n",
    "        (\"lgbm\", make_pipeline(tree_pipe, LGBMClassifier())),\n",
    "        (\"mlp\", make_pipeline(mlp_pipe, AdaBoostClassifier())),\n",
    "        (\"svc\", make_pipeline(mlp_pipe, SVC())),\n",
    "    ]\n",
    ")\n",
    "cv_2(stacking_clf)"
   ]
  },
  {
   "cell_type": "code",
   "execution_count": 24,
   "id": "89b3bec2-214a-4a9a-a54f-ac20c7f62ef4",
   "metadata": {},
   "outputs": [],
   "source": [
    "def rs(m, params):\n",
    "    random_search = RandomizedSearchCV(\n",
    "        m,\n",
    "        params,\n",
    "        n_iter=500,\n",
    "        scoring=sklearn.metrics.accuracy_score,\n",
    "        n_jobs=-1,\n",
    "        cv=trainval_splits,\n",
    "        verbose=4,\n",
    "    )\n",
    "    random_search.fit(\n",
    "        traintestp[: len(traintest[traintest.istrain == 1])],\n",
    "        train.salary,\n",
    "    )\n",
    "    return random_search"
   ]
  },
  {
   "cell_type": "code",
   "execution_count": null,
   "id": "81e02890-ca49-4b29-854c-e0a1d4ffbc98",
   "metadata": {},
   "outputs": [],
   "source": [
    "lgbm_params = {\n",
    "    \"num_leaves\": list(range(10, 50, 2)) + [None],\n",
    "    \"min_child_samples\": list(range(100, 500, 100)) + [None],\n",
    "    \"min_child_weight\": [1e-5, 1e-3, 1e-2, 1e-1, 1, 1e1, 1e2, 1e3, 1e4, None],\n",
    "    \"subsample\": [0.2, 0.4, 0.6, 0.8, 1, None],\n",
    "    \"reg_alpha\": [0, 1e-1, 1, 2, 5, 7, 10, 50, 100, None],\n",
    "    \"reg_lambda\": [0, 1e-1, 1, 5, 10, 20, 50, 100, None],\n",
    "}\n",
    "lgbm_model = LGBMClassifier()\n",
    "lgbm_search = rs(lgbm_model, params=lgbm_params)\n",
    "lgbm_search"
   ]
  },
  {
   "cell_type": "code",
   "execution_count": 39,
   "id": "21dca3c3-a4d0-48ed-bd78-a1a1f5134af3",
   "metadata": {},
   "outputs": [
    {
     "name": "stdout",
     "output_type": "stream",
     "text": [
      "[FeatureUnion] ....... (step 1 of 2) Processing numeric, total=   0.0s\n",
      "[FeatureUnion] ..... (step 2 of 2) Processing job_desig, total=   0.2s\n",
      "[Pipeline] ............. (step 1 of 1) Processing union, total=   0.2s\n",
      "[FeatureUnion] ....... (step 1 of 2) Processing numeric, total=   0.0s\n",
      "[FeatureUnion] ..... (step 2 of 2) Processing job_desig, total=   0.2s\n",
      "[Pipeline] ............. (step 1 of 1) Processing union, total=   0.2s\n",
      "[FeatureUnion] ....... (step 1 of 2) Processing numeric, total=   0.0s\n",
      "[FeatureUnion] ..... (step 2 of 2) Processing job_desig, total=   0.2s\n",
      "[Pipeline] ............. (step 1 of 1) Processing union, total=   0.2s\n",
      "[FeatureUnion] ....... (step 1 of 2) Processing numeric, total=   0.0s\n",
      "[FeatureUnion] ..... (step 2 of 2) Processing job_desig, total=   0.2s\n",
      "[Pipeline] ............. (step 1 of 1) Processing union, total=   0.2s\n",
      "[FeatureUnion] ....... (step 1 of 2) Processing numeric, total=   0.0s\n",
      "[FeatureUnion] ..... (step 2 of 2) Processing job_desig, total=   0.2s\n",
      "[Pipeline] ............. (step 1 of 1) Processing union, total=   0.2s\n",
      "[FeatureUnion] ....... (step 1 of 2) Processing numeric, total=   0.0s\n",
      "[FeatureUnion] ..... (step 2 of 2) Processing job_desig, total=   0.2s\n",
      "[Pipeline] ............. (step 1 of 1) Processing union, total=   0.2s\n",
      "[FeatureUnion] ....... (step 1 of 2) Processing numeric, total=   0.0s\n",
      "[FeatureUnion] ..... (step 2 of 2) Processing job_desig, total=   0.2s\n",
      "[Pipeline] ............. (step 1 of 1) Processing union, total=   0.2s\n",
      "[FeatureUnion] ....... (step 1 of 2) Processing numeric, total=   0.0s\n",
      "[FeatureUnion] ..... (step 2 of 2) Processing job_desig, total=   0.2s\n",
      "[Pipeline] ............. (step 1 of 1) Processing union, total=   0.2s\n",
      "[FeatureUnion] ....... (step 1 of 2) Processing numeric, total=   0.0s\n",
      "[FeatureUnion] ..... (step 2 of 2) Processing job_desig, total=   0.2s\n",
      "[Pipeline] ............. (step 1 of 1) Processing union, total=   0.2s\n",
      "[FeatureUnion] ....... (step 1 of 2) Processing numeric, total=   0.0s\n",
      "[FeatureUnion] ..... (step 2 of 2) Processing job_desig, total=   0.2s\n",
      "[Pipeline] ............. (step 1 of 1) Processing union, total=   0.2s\n",
      "[FeatureUnion] ....... (step 1 of 2) Processing numeric, total=   0.0s\n",
      "[FeatureUnion] ..... (step 2 of 2) Processing job_desig, total=   0.2s\n",
      "[Pipeline] ............. (step 1 of 1) Processing union, total=   0.2s\n",
      "[FeatureUnion] ....... (step 1 of 2) Processing numeric, total=   0.0s\n",
      "[FeatureUnion] ..... (step 2 of 2) Processing job_desig, total=   0.2s\n",
      "[Pipeline] ............. (step 1 of 1) Processing union, total=   0.2s\n"
     ]
    },
    {
     "name": "stderr",
     "output_type": "stream",
     "text": [
      "/Users/kdang/anaconda3/envs/kaggle/lib/python3.7/site-packages/sklearn/linear_model/_logistic.py:765: ConvergenceWarning: lbfgs failed to converge (status=1):\n",
      "STOP: TOTAL NO. of ITERATIONS REACHED LIMIT.\n",
      "\n",
      "Increase the number of iterations (max_iter) or scale the data as shown in:\n",
      "    https://scikit-learn.org/stable/modules/preprocessing.html\n",
      "Please also refer to the documentation for alternative solver options:\n",
      "    https://scikit-learn.org/stable/modules/linear_model.html#logistic-regression\n",
      "  extra_warning_msg=_LOGISTIC_SOLVER_CONVERGENCE_MSG)\n"
     ]
    },
    {
     "ename": "NameError",
     "evalue": "name 'submit' is not defined",
     "output_type": "error",
     "traceback": [
      "\u001b[0;31m---------------------------------------------------------------------------\u001b[0m",
      "\u001b[0;31mNameError\u001b[0m                                 Traceback (most recent call last)",
      "\u001b[0;32m<ipython-input-39-4e525483394d>\u001b[0m in \u001b[0;36m<module>\u001b[0;34m\u001b[0m\n\u001b[1;32m      1\u001b[0m \u001b[0mstacking_clf\u001b[0m\u001b[0;34m.\u001b[0m\u001b[0mfit\u001b[0m\u001b[0;34m(\u001b[0m\u001b[0mtraintest\u001b[0m\u001b[0;34m[\u001b[0m\u001b[0mtraintest\u001b[0m\u001b[0;34m.\u001b[0m\u001b[0mistrain\u001b[0m\u001b[0;34m==\u001b[0m\u001b[0;36m1\u001b[0m\u001b[0;34m]\u001b[0m\u001b[0;34m,\u001b[0m \u001b[0mtrain\u001b[0m\u001b[0;34m.\u001b[0m\u001b[0msalary\u001b[0m\u001b[0;34m)\u001b[0m\u001b[0;34m\u001b[0m\u001b[0;34m\u001b[0m\u001b[0m\n\u001b[0;32m----> 2\u001b[0;31m \u001b[0msubmit\u001b[0m\u001b[0;34m(\u001b[0m\u001b[0mstacking_clf\u001b[0m\u001b[0;34m)\u001b[0m\u001b[0;34m\u001b[0m\u001b[0;34m\u001b[0m\u001b[0m\n\u001b[0m",
      "\u001b[0;31mNameError\u001b[0m: name 'submit' is not defined"
     ]
    }
   ],
   "source": [
    "stacking_clf.fit(traintest[traintest.istrain==1], train.salary)\n",
    "submit(stacking_clf)"
   ]
  },
  {
   "cell_type": "code",
   "execution_count": 43,
   "id": "9e7f2623-d69d-4d34-8755-09bb37296c7c",
   "metadata": {},
   "outputs": [],
   "source": [
    "salary = stacking_clf.predict(traintest[traintest.istrain == 0])\n",
    "test[\"salary\"] = salary\n",
    "test.to_excel(\"submission.xlsx\")"
   ]
  },
  {
   "cell_type": "code",
   "execution_count": null,
   "id": "5bcbbb56-bc62-4efc-a640-52de3835d1d3",
   "metadata": {},
   "outputs": [],
   "source": []
  }
 ],
 "metadata": {
  "kernelspec": {
   "display_name": "Python 3",
   "language": "python",
   "name": "python3"
  },
  "language_info": {
   "codemirror_mode": {
    "name": "ipython",
    "version": 3
   },
   "file_extension": ".py",
   "mimetype": "text/x-python",
   "name": "python",
   "nbconvert_exporter": "python",
   "pygments_lexer": "ipython3",
   "version": "3.7.6"
  }
 },
 "nbformat": 4,
 "nbformat_minor": 5
}
