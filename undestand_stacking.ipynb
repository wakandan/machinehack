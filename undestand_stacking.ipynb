{
 "cells": [
  {
   "cell_type": "code",
   "execution_count": 15,
   "id": "fb9d8f89-fb0e-43f4-acd2-b047289b40fe",
   "metadata": {},
   "outputs": [
    {
     "name": "stdout",
     "output_type": "stream",
     "text": [
      "The lab_black extension is already loaded. To reload it, use:\n",
      "  %reload_ext lab_black\n"
     ]
    }
   ],
   "source": [
    "%load_ext lab_black\n",
    "\n",
    "\n",
    "import numpy as np\n",
    "from sklearn.datasets import fetch_openml\n",
    "from sklearn.utils import shuffle\n",
    "from sklearn.compose import make_column_selector\n",
    "from sklearn.compose import make_column_transformer\n",
    "from sklearn.impute import SimpleImputer\n",
    "from sklearn.pipeline import make_pipeline\n",
    "from sklearn.preprocessing import OrdinalEncoder\n",
    "from sklearn.preprocessing import OneHotEncoder, StandardScaler\n",
    "from sklearn.linear_model import LassoCV"
   ]
  },
  {
   "cell_type": "code",
   "execution_count": 5,
   "id": "a57b0509-5504-4f04-af6f-4f069f59cf3c",
   "metadata": {},
   "outputs": [],
   "source": [
    "def load_ames_housing():\n",
    "    df = fetch_openml(name=\"house_prices\", as_frame=True)\n",
    "    X = df.data\n",
    "    y = df.target\n",
    "\n",
    "    features = [\n",
    "        \"YrSold\",\n",
    "        \"HeatingQC\",\n",
    "        \"Street\",\n",
    "        \"YearRemodAdd\",\n",
    "        \"Heating\",\n",
    "        \"MasVnrType\",\n",
    "        \"BsmtUnfSF\",\n",
    "        \"Foundation\",\n",
    "        \"MasVnrArea\",\n",
    "        \"MSSubClass\",\n",
    "        \"ExterQual\",\n",
    "        \"Condition2\",\n",
    "        \"GarageCars\",\n",
    "        \"GarageType\",\n",
    "        \"OverallQual\",\n",
    "        \"TotalBsmtSF\",\n",
    "        \"BsmtFinSF1\",\n",
    "        \"HouseStyle\",\n",
    "        \"MiscFeature\",\n",
    "        \"MoSold\",\n",
    "    ]\n",
    "\n",
    "    X = X[features]\n",
    "    X, y = shuffle(X, y, random_state=0)\n",
    "\n",
    "    X = X[:600]\n",
    "    y = y[:600]\n",
    "    return X, np.log(y)\n",
    "\n",
    "\n",
    "X, y = load_ames_housing()"
   ]
  },
  {
   "cell_type": "code",
   "execution_count": 7,
   "id": "4f7cabd2-fbe6-4d33-aa85-5c6fef0b85be",
   "metadata": {},
   "outputs": [
    {
     "data": {
      "text/plain": [
       "(['HeatingQC',\n",
       "  'Street',\n",
       "  'Heating',\n",
       "  'MasVnrType',\n",
       "  'Foundation',\n",
       "  'ExterQual',\n",
       "  'Condition2',\n",
       "  'GarageType',\n",
       "  'HouseStyle',\n",
       "  'MiscFeature'],\n",
       " ['YrSold',\n",
       "  'YearRemodAdd',\n",
       "  'BsmtUnfSF',\n",
       "  'MasVnrArea',\n",
       "  'MSSubClass',\n",
       "  'GarageCars',\n",
       "  'OverallQual',\n",
       "  'TotalBsmtSF',\n",
       "  'BsmtFinSF1',\n",
       "  'MoSold'])"
      ]
     },
     "execution_count": 7,
     "metadata": {},
     "output_type": "execute_result"
    }
   ],
   "source": [
    "cat_selector = make_column_selector(dtype_include=object)\n",
    "num_selector = make_column_selector(dtype_include=np.number)\n",
    "cat_selector(X), num_selector(X)"
   ]
  },
  {
   "cell_type": "code",
   "execution_count": 12,
   "id": "4f64edaa-6b97-4998-979d-55d482427b78",
   "metadata": {},
   "outputs": [
    {
     "data": {
      "text/plain": [
       "ColumnTransformer(transformers=[('simpleimputer',\n",
       "                                 SimpleImputer(add_indicator=True),\n",
       "                                 <sklearn.compose._column_transformer.make_column_selector object at 0x7fc6807a9490>),\n",
       "                                ('ordinalencoder',\n",
       "                                 OrdinalEncoder(handle_unknown='use_encoded_value',\n",
       "                                                unknown_value=-1),\n",
       "                                 <sklearn.compose._column_transformer.make_column_selector object at 0x7fc6807a9810>)])"
      ]
     },
     "execution_count": 12,
     "metadata": {},
     "output_type": "execute_result"
    }
   ],
   "source": [
    "cat_tree_processor = OrdinalEncoder(\n",
    "    handle_unknown=\"use_encoded_value\", unknown_value=-1\n",
    ")\n",
    "num_tree_processor = SimpleImputer(strategy=\"mean\", add_indicator=True)\n",
    "tree_processor = make_column_transformer(\n",
    "    (num_tree_processor, num_selector), (cat_tree_processor, cat_selector)\n",
    ")\n",
    "tree_processor"
   ]
  },
  {
   "cell_type": "code",
   "execution_count": 14,
   "id": "7a801ba6-3300-4567-84a8-c38c293d7975",
   "metadata": {},
   "outputs": [
    {
     "data": {
      "text/plain": [
       "ColumnTransformer(transformers=[('onehotencoder',\n",
       "                                 OneHotEncoder(handle_unknown='ignore'),\n",
       "                                 <sklearn.compose._column_transformer.make_column_selector object at 0x7fc6807a9810>),\n",
       "                                ('pipeline',\n",
       "                                 Pipeline(steps=[('standardscaler',\n",
       "                                                  StandardScaler()),\n",
       "                                                 ('simpleimputer',\n",
       "                                                  SimpleImputer(add_indicator=True))]),\n",
       "                                 <sklearn.compose._column_transformer.make_column_selector object at 0x7fc6807a9490>)])"
      ]
     },
     "execution_count": 14,
     "metadata": {},
     "output_type": "execute_result"
    }
   ],
   "source": [
    "linear_processor = make_column_transformer(\n",
    "    (OneHotEncoder(handle_unknown=\"ignore\"), cat_selector),\n",
    "    (\n",
    "        make_pipeline(\n",
    "            StandardScaler(), SimpleImputer(strategy=\"mean\", add_indicator=True)\n",
    "        ),\n",
    "        num_selector,\n",
    "    ),\n",
    ")\n",
    "linear_processor"
   ]
  },
  {
   "cell_type": "code",
   "execution_count": 16,
   "id": "f6ef1766-2d41-43ee-95ac-8704460ac610",
   "metadata": {},
   "outputs": [
    {
     "data": {
      "text/plain": [
       "Pipeline(steps=[('columntransformer',\n",
       "                 ColumnTransformer(transformers=[('onehotencoder',\n",
       "                                                  OneHotEncoder(handle_unknown='ignore'),\n",
       "                                                  <sklearn.compose._column_transformer.make_column_selector object at 0x7fc6807a9810>),\n",
       "                                                 ('pipeline',\n",
       "                                                  Pipeline(steps=[('standardscaler',\n",
       "                                                                   StandardScaler()),\n",
       "                                                                  ('simpleimputer',\n",
       "                                                                   SimpleImputer(add_indicator=True))]),\n",
       "                                                  <sklearn.compose._column_transformer.make_column_selector object at 0x7fc6807a9490>)])),\n",
       "                ('lassocv', LassoCV())])"
      ]
     },
     "execution_count": 16,
     "metadata": {},
     "output_type": "execute_result"
    }
   ],
   "source": [
    "lasso_pipeline = make_pipeline(linear_processor, LassoCV())\n",
    "lasso_pipeline"
   ]
  },
  {
   "cell_type": "code",
   "execution_count": 18,
   "id": "4a56cb50-3e8e-4f03-a7e9-bc5621917358",
   "metadata": {},
   "outputs": [
    {
     "data": {
      "text/plain": [
       "Pipeline(steps=[('columntransformer',\n",
       "                 ColumnTransformer(transformers=[('simpleimputer',\n",
       "                                                  SimpleImputer(add_indicator=True),\n",
       "                                                  <sklearn.compose._column_transformer.make_column_selector object at 0x7fc6807a9490>),\n",
       "                                                 ('ordinalencoder',\n",
       "                                                  OrdinalEncoder(handle_unknown='use_encoded_value',\n",
       "                                                                 unknown_value=-1),\n",
       "                                                  <sklearn.compose._column_transformer.make_column_selector object at 0x7fc6807a9810>)])),\n",
       "                ('randomforestregressor',\n",
       "                 RandomForestRegressor(random_state=42))])"
      ]
     },
     "execution_count": 18,
     "metadata": {},
     "output_type": "execute_result"
    }
   ],
   "source": [
    "from sklearn.ensemble import RandomForestRegressor\n",
    "\n",
    "rf_pipeline = make_pipeline(tree_processor, RandomForestRegressor(random_state=42))\n",
    "rf_pipeline"
   ]
  },
  {
   "cell_type": "code",
   "execution_count": 19,
   "id": "735ca8fe-e045-40c1-9385-6c3e410128c9",
   "metadata": {},
   "outputs": [
    {
     "data": {
      "text/plain": [
       "Pipeline(steps=[('columntransformer',\n",
       "                 ColumnTransformer(transformers=[('simpleimputer',\n",
       "                                                  SimpleImputer(add_indicator=True),\n",
       "                                                  <sklearn.compose._column_transformer.make_column_selector object at 0x7fc6807a9490>),\n",
       "                                                 ('ordinalencoder',\n",
       "                                                  OrdinalEncoder(handle_unknown='use_encoded_value',\n",
       "                                                                 unknown_value=-1),\n",
       "                                                  <sklearn.compose._column_transformer.make_column_selector object at 0x7fc6807a9810>)])),\n",
       "                ('histgradientboostingregressor',\n",
       "                 HistGradientBoostingRegressor(random_state=0))])"
      ]
     },
     "execution_count": 19,
     "metadata": {},
     "output_type": "execute_result"
    }
   ],
   "source": [
    "from sklearn.experimental import enable_hist_gradient_boosting  # noqa\n",
    "from sklearn.ensemble import HistGradientBoostingRegressor\n",
    "\n",
    "gbdt_pipeline = make_pipeline(\n",
    "    tree_processor, HistGradientBoostingRegressor(random_state=0)\n",
    ")\n",
    "gbdt_pipeline"
   ]
  },
  {
   "cell_type": "code",
   "execution_count": 22,
   "id": "6bfcecea-b7ef-4e1e-b5ad-6d00152e4863",
   "metadata": {},
   "outputs": [
    {
     "data": {
      "text/plain": [
       "{'fit_time': array([2.89679909, 3.04144692, 3.03006387, 2.91020298, 2.88251114]),\n",
       " 'score_time': array([0.02648282, 0.02798891, 0.02634287, 0.02596903, 0.0258379 ]),\n",
       " 'test_r2': array([0.82586682, 0.78413678, 0.64197976, 0.83980335, 0.79267176]),\n",
       " 'test_neg_mean_absolute_error': array([-0.11329703, -0.1165098 , -0.13046406, -0.11350389, -0.13363819])}"
      ]
     },
     "execution_count": 22,
     "metadata": {},
     "output_type": "execute_result"
    }
   ],
   "source": [
    "from sklearn.ensemble import StackingRegressor\n",
    "from sklearn.linear_model import RidgeCV\n",
    "\n",
    "stacking_regressor = StackingRegressor(\n",
    "    estimators=[\n",
    "        (\"random forest\", rf_pipeline),\n",
    "        (\"lasso\", lasso_pipeline),\n",
    "        (\"gradient boosting\", gbdt_pipeline),\n",
    "    ],\n",
    "    final_estimator=RidgeCV(),\n",
    ")\n",
    "from sklearn.model_selection import cross_validate, cross_val_predict\n",
    "\n",
    "cross_validate(\n",
    "    stacking_regressor,\n",
    "    X,\n",
    "    y,\n",
    "    scoring=[\"r2\", \"neg_mean_absolute_error\"],\n",
    "    n_jobs=-1,\n",
    "    verbose=0,\n",
    ")"
   ]
  },
  {
   "cell_type": "code",
   "execution_count": null,
   "id": "0cf18c75-c898-46e5-9a49-5cf48623ff60",
   "metadata": {},
   "outputs": [],
   "source": [
    "import time\n",
    "import matplotlib.pyplot as plt\n",
    "from sklearn.model_selection import cross_validate, cross_val_predict"
   ]
  }
 ],
 "metadata": {
  "kernelspec": {
   "display_name": "Python 3",
   "language": "python",
   "name": "python3"
  },
  "language_info": {
   "codemirror_mode": {
    "name": "ipython",
    "version": 3
   },
   "file_extension": ".py",
   "mimetype": "text/x-python",
   "name": "python",
   "nbconvert_exporter": "python",
   "pygments_lexer": "ipython3",
   "version": "3.7.6"
  }
 },
 "nbformat": 4,
 "nbformat_minor": 5
}
